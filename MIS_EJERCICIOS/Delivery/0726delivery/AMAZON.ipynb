{
 "metadata": {
  "language_info": {
   "codemirror_mode": {
    "name": "ipython",
    "version": 3
   },
   "file_extension": ".py",
   "mimetype": "text/x-python",
   "name": "python",
   "nbconvert_exporter": "python",
   "pygments_lexer": "ipython3",
   "version": "3.8.3-final"
  },
  "orig_nbformat": 2,
  "kernelspec": {
   "name": "python38332bit4db10a2e16a4431a99420108f7e4013a",
   "display_name": "Python 3.8.3 32-bit"
  }
 },
 "nbformat": 4,
 "nbformat_minor": 2,
 "cells": [
  {
   "cell_type": "markdown",
   "metadata": {},
   "source": [
    "### 2. From Amazon\n",
    "\n",
    "*Using  beautiful soap and/or regex*\n",
    "\n",
    "Save in a dataframe the next information using web scraping. Using product pages from Amazon, do the following: \n",
    "\n",
    "- Get the product name from the web and save it in a column called \"item_name\"\n",
    "- Get the price from the web and save it in a column called \"item_price\"\n",
    "\n",
    "While you are doing the exercise, document the steps you are doing. Try to do the program for generic pages. If you cannot do it generic, explain the reasons. \n",
    "\n",
    "-------------------------------\n",
    "\n",
    "**Example:** \n",
    "\n",
    "url = https://www.amazon.es/Tommy-Hilfiger-UM0UM00054-Camiseta-Hombre/dp/B01MYD0T1F/ref=sr_1_1?dchild=1&pf_rd_p=58224bec-cac9-4dd2-a42a-61b1db609c2d&pf_rd_r=VZQ1JTQXFVRZ9E9VSKX4&qid=1595364419&s=apparel&sr=1-1\n",
    "\n",
    "*item_name* --> \"Tommy Hilfiger Logo Camiseta de Cuello Redondo,Perfecta para El Tiempo Libre para Hombre\"\n",
    "\n",
    "*item_price* --> [[18,99 € - 46,59 €]] or one of the options.\n",
    "\n",
    "\n"
   ]
  },
  {
   "cell_type": "code",
   "execution_count": null,
   "metadata": {},
   "outputs": [],
   "source": [
    "# Me centro en explicar los pasos y en detallar los cambios que he hecho respecto a las \"pistas\" que he ido encontrando por ahí."
   ]
  },
  {
   "cell_type": "code",
   "execution_count": 10,
   "metadata": {
    "tags": []
   },
   "outputs": [
    {
     "output_type": "stream",
     "name": "stdout",
     "text": "Collecting lxml\n  Downloading lxml-4.5.2-cp38-cp38-win32.whl (3.2 MB)\nInstalling collected packages: lxml\nSuccessfully installed lxml-4.5.2\n"
    }
   ],
   "source": [
    "!pip3 install lxml # Instalo lxml"
   ]
  },
  {
   "cell_type": "code",
   "execution_count": 5,
   "metadata": {},
   "outputs": [],
   "source": [
    "# Importo las liberías necesarias\n",
    "\n",
    "import requests\n",
    "from bs4 import BeautifulSoup\n",
    "import lxml\n",
    "import unicodedata\n",
    "import pandas as pd"
   ]
  },
  {
   "cell_type": "code",
   "execution_count": 7,
   "metadata": {
    "tags": []
   },
   "outputs": [
    {
     "output_type": "stream",
     "name": "stdout",
     "text": "item_name item_price\n0  dibea Árbol rascador para Gatos, 112 cm (Gris ...    34,30 €\n"
    }
   ],
   "source": [
    "# Como \"buena práctica\", guardo mis headers (después de copiarlos en http://www.xhaus.com/headers)\n",
    "headers = {\"User-agent\": \"Mozilla/5.0 (Windows NT 10.0; Win64; x64) AppleWebKit/537.36 (KHTML, like Gecko) Chrome/84.0.4147.89 Safari/537.36\"}\n",
    "\n",
    "# La url que voy a escrapear.\n",
    "URL = \"https://www.amazon.es/Tommy-Hilfiger-UM0UM00054-Camiseta-Hombre/dp/B01MYD0T1F/ref=sr_1_1?dchild=1&pf_rd_p=58224bec-cac9-4dd2-a42a-61b1db609c2d&pf_rd_r=VZQ1JTQXFVRZ9E9VSKX4&qid=1595364419&s=apparel&sr=1-1\"\n",
    "\n",
    "# Creo una función para hacerlo todo más genérico. Aunque luego compruebo que sin función sale el dataframe bonito y con función no.\n",
    "def amazon():\n",
    "\n",
    "# Descargo el contenido de la url en la variable page mediante el método request indicando que los headers son los que están guardados en la variable headers.\n",
    "    page = requests.get(URL, headers=headers)\n",
    "\n",
    "# Hago la sopa. Creo un objeto tipo BeautifulSoup al que le paso la url y el identificador del parser, que es el \"transformador\". Aquí pruebo a cambiar el html.parser por lxml (lo instalo antes)... y funciona.\n",
    "\n",
    "    soup = BeautifulSoup(page.content, features=\"lxml\")\n",
    "\n",
    "# Creo dos listas vacías.\n",
    "    item_name=[]\n",
    "    item_price=[]\n",
    "\n",
    "# Busco el primer atributo id que tenga como valor \"productTitle\" y obtengo su texto indicando con strip que elimine los espacios en blanco al principio y al final. Añado el texto de este valor a la lista item_name.\n",
    "    item_name.append(soup.find(id=\"productTitle\").get_text(strip=True))\n",
    "\n",
    "# Busco el valor \"priceblock_ourprice\" del atributo id, obtengo el texto y lo guardo en price.\n",
    "    price=soup.find(id=\"priceblock_ourprice\").get_text()\n",
    "\n",
    "# Me empeño en guardar el rango de precios (cuando lo haya) pero veo que al imprimirlos tal cual todo va bien pero al meterlos en una lista salen \"cosas raras\". Busco en gooooogle y me encuentro con que el método normalize de la librería unicodedata resuelve este problema. Importo (parece que ya estaba instalado). Me leo la documentación y sólo saco en claro que tiene que ver algo con compatibilidad de caracteres, de momento no profundizo más: copio, pego y funciona.\n",
    "    price=unicodedata.normalize(\"NFKD\", price)\n",
    "\n",
    " # Añado el texo del valor \"normalizado\" a la lista item_price.   \n",
    "    item_price.append(price)\n",
    "\n",
    "# Hago el dataframe convirtiendo un diccionario de las listas creadas.\n",
    "    df = pd.DataFrame({'item_name' : item_name,'item_price' : item_price})\n",
    "\n",
    "# Si pongo df solo, al llamar a la función no ocurre nada. Tengo que poner print pero se ve feísimo.\n",
    "    print(df)\n",
    "# Llamada a la función para que funcione.\n",
    "amazon()\n"
   ]
  },
  {
   "cell_type": "code",
   "execution_count": 12,
   "metadata": {
    "tags": []
   },
   "outputs": [
    {
     "output_type": "execute_result",
     "data": {
      "text/plain": "                                           item_name item_price\n0  dibea Árbol rascador para Gatos, 112 cm (Gris ...    34,30 €",
      "text/html": "<div>\n<style scoped>\n    .dataframe tbody tr th:only-of-type {\n        vertical-align: middle;\n    }\n\n    .dataframe tbody tr th {\n        vertical-align: top;\n    }\n\n    .dataframe thead th {\n        text-align: right;\n    }\n</style>\n<table border=\"1\" class=\"dataframe\">\n  <thead>\n    <tr style=\"text-align: right;\">\n      <th></th>\n      <th>item_name</th>\n      <th>item_price</th>\n    </tr>\n  </thead>\n  <tbody>\n    <tr>\n      <th>0</th>\n      <td>dibea Árbol rascador para Gatos, 112 cm (Gris ...</td>\n      <td>34,30 €</td>\n    </tr>\n  </tbody>\n</table>\n</div>"
     },
     "metadata": {},
     "execution_count": 12
    }
   ],
   "source": [
    "\"\"\"\n",
    "Es genérico porque sirve para otros productos. A mí de momento no me ha salido ningún bloqueo de seguridad.\n",
    "\n",
    "El único problema es que serviría para todas los productos que usen como atributo \"priceblock_ourprice\". No valdría para las ofertas del día, que tienen como atributo \"priceblock_dealprice\".\n",
    "\n",
    "Dentro de la función sólo muestra el df con print. Fuera de ella lo muestra \"bonito, versión dataframe pandas\"\n",
    "\"\"\"\n",
    "\n",
    "headers = {\n",
    "    \"User-agent\": \"Mozilla/5.0 (Windows NT 10.0; Win64; x64) AppleWebKit/537.36 (KHTML, like Gecko) Chrome/84.0.4147.89 Safari/537.36\"}\n",
    "\n",
    "URL = \"https://www.amazon.es/dibea-KB00207-%C3%81rbol-rascador-Gatos/dp/B00RY6AB2U/ref=sr_1_7?__mk_es_ES=%C3%85M%C3%85%C5%BD%C3%95%C3%91&dchild=1&keywords=gato&qid=1595698059&sr=8-7\"\n",
    "\n",
    "page = requests.get(URL, headers=headers)\n",
    "\n",
    "soup = BeautifulSoup(page.content,\"lxml\")\n",
    "\n",
    "item_name=[]\n",
    "item_price=[]\n",
    "\n",
    "\n",
    "item_name.append(soup.find(id=\"productTitle\").get_text(strip=True))\n",
    "price=soup.find(id=\"priceblock_ourprice\").get_text()\n",
    "price=unicodedata.normalize(\"NFKD\", price)\n",
    "item_price.append(price)\n",
    "\n",
    "\n",
    "df = pd.DataFrame({'item_name' : item_name,'item_price' : item_price})\n",
    "\n",
    "\n",
    "df"
   ]
  }
 ]
}