{
 "cells": [
  {
   "cell_type": "markdown",
   "metadata": {},
   "source": [
    "# Ejercicios Precurso W2\n",
    "\n",
    "**Variables, listas, diccionarios, condicionales, booleanos, funciones, while**"
   ]
  },
  {
   "cell_type": "markdown",
   "metadata": {},
   "source": [
    "------------------------------------------------------------------------------------------------------------"
   ]
  },
  {
   "cell_type": "markdown",
   "metadata": {},
   "source": [
    "## Ejercicio 1."
   ]
  },
  {
   "cell_type": "markdown",
   "metadata": {},
   "source": [
    "1. Crea una variable llamada `numero_bridge` que tenga como valor **15**. Tipo entero.\n"
   ]
  },
  {
   "cell_type": "code",
   "execution_count": 1,
   "metadata": {},
   "outputs": [],
   "source": [
    "numero_bridge=15"
   ]
  },
  {
   "cell_type": "markdown",
   "metadata": {},
   "source": [
    "2. Crea una variable llamada `nombre_calle`que sea un string y sea **Recoletos**\n",
    " "
   ]
  },
  {
   "cell_type": "code",
   "execution_count": 2,
   "metadata": {},
   "outputs": [],
   "source": [
    "nombre_calle=\"Recoletos\""
   ]
  },
  {
   "cell_type": "code",
   "execution_count": null,
   "metadata": {},
   "outputs": [],
   "source": []
  },
  {
   "cell_type": "markdown",
   "metadata": {},
   "source": [
    "3. Crea una variable llamada `gusto_personal` que sea **True** si eres más de playa y **False** si eres más de montaña.\n",
    "```python\n",
    "#Ejemplo: \n",
    "gusto_personal = False  # Si te gusta más la montaña\n",
    "gusto_personal = True  # Si te gusta más la playa\n",
    "``` "
   ]
  },
  {
   "cell_type": "code",
   "execution_count": 3,
   "metadata": {},
   "outputs": [],
   "source": [
    "gusto_personal=True"
   ]
  },
  {
   "cell_type": "markdown",
   "metadata": {},
   "source": [
    "4. Crea una variable llamada `nada` de la siguiente forma: `nada = None`. None no representa ningún valor. Ha de tenerse en cuenta que si se hace `if (nada):`, `nada` actúa como un valor booleano `False`. \n"
   ]
  },
  {
   "cell_type": "code",
   "execution_count": 4,
   "metadata": {},
   "outputs": [],
   "source": [
    "nada=None"
   ]
  },
  {
   "cell_type": "markdown",
   "metadata": {},
   "source": [
    "5. Crea una variable que llamada `lista_direccion` que sea una lista y que contenga 2 valores. El primer valor debe ser la variable `numero_bridge` y el segundo valor de la lista debe ser la variable `nombre_calle`\n"
   ]
  },
  {
   "cell_type": "code",
   "execution_count": 5,
   "metadata": {},
   "outputs": [],
   "source": [
    "lista_direccion=[numero_bridge,nombre_calle]"
   ]
  },
  {
   "cell_type": "markdown",
   "metadata": {},
   "source": [
    "6. Crea una variable llamada `horas_sueno` que almacene, en forma de String, las horas que has dormido hoy.\n",
    "```python\n",
    "#Ejemplo: \n",
    "horas_sueno = \"8\" \n",
    "````\n"
   ]
  },
  {
   "cell_type": "code",
   "execution_count": 6,
   "metadata": {},
   "outputs": [],
   "source": [
    "horas_sueno=\"8\""
   ]
  },
  {
   "cell_type": "markdown",
   "metadata": {},
   "source": [
    "7. Crea una lista llamada `lista_informacion` que tenga cada una de las variables creadas anteriormente en el orden en el que se han expuesto en el ejercicio.\n",
    "IMPORTANTE: A partir de este momento y para todos estos ejercicios, solo se van a utilizar los datos almacenados en `lista_informacion`. Debe contener 6 elementos. "
   ]
  },
  {
   "cell_type": "code",
   "execution_count": 7,
   "metadata": {},
   "outputs": [],
   "source": [
    "lista_informacion=[numero_bridge,nombre_calle,gusto_personal,nada,lista_direccion,horas_sueno]"
   ]
  },
  {
   "cell_type": "markdown",
   "metadata": {},
   "source": [
    "8. Ejecuta esta celda para borrar todas las variables que has tenido que crear antes. El contenido de `lista_informacion` no cambiará. De esta forma, nos aseguraremos de que solo uses la información de `lista_informacion`. "
   ]
  },
  {
   "cell_type": "code",
   "execution_count": 8,
   "metadata": {},
   "outputs": [],
   "source": [
    "#run this cell\n",
    "del numero_bridge\n",
    "del nombre_calle\n",
    "del gusto_personal \n",
    "del nada\n",
    "del lista_direccion\n",
    "del horas_sueno"
   ]
  },
  {
   "cell_type": "markdown",
   "metadata": {},
   "source": [
    "## Ejercicio 2."
   ]
  },
  {
   "cell_type": "markdown",
   "metadata": {},
   "source": [
    "#### Apartado 1."
   ]
  },
  {
   "cell_type": "markdown",
   "metadata": {},
   "source": [
    "Para esta parte del ejercicio has debido definir `lista_información` correctamente. Recuerda no usar las variables excepto `lista_informacion`. Leer cada punto hasta el final antes de hacer la tarea. "
   ]
  },
  {
   "cell_type": "markdown",
   "metadata": {},
   "source": [
    "Mostrar por pantalla, sin uso de funciones ni bucles:"
   ]
  },
  {
   "cell_type": "markdown",
   "metadata": {},
   "source": [
    "1. La concatenación del número de The Bridge, dos puntos y el nombre de la calle. "
   ]
  },
  {
   "cell_type": "code",
   "execution_count": 9,
   "metadata": {
    "tags": []
   },
   "outputs": [
    {
     "output_type": "stream",
     "name": "stdout",
     "text": "15:Recoletos\n"
    }
   ],
   "source": [
    "print(str(lista_informacion[0])+\":\"+lista_informacion[1])"
   ]
  },
  {
   "cell_type": "markdown",
   "metadata": {},
   "source": [
    "   2. La suma del número de The Bridge y las horas que has dormido hoy. "
   ]
  },
  {
   "cell_type": "code",
   "execution_count": 10,
   "metadata": {
    "tags": []
   },
   "outputs": [
    {
     "output_type": "stream",
     "name": "stdout",
     "text": "23\n"
    }
   ],
   "source": [
    "print(lista_informacion[0]+int(lista_informacion[5]))"
   ]
  },
  {
   "cell_type": "markdown",
   "metadata": {},
   "source": [
    "3. La concatenación del número de The Bridge, el nombre de la calle, tu gusto personal y las horas de sueño. Cada uno debe estar separado por lo siguiente: `\" : \"`"
   ]
  },
  {
   "cell_type": "code",
   "execution_count": 11,
   "metadata": {
    "tags": []
   },
   "outputs": [
    {
     "output_type": "stream",
     "name": "stdout",
     "text": "15 : Recoletos : True : 8\n"
    }
   ],
   "source": [
    "print(str(lista_informacion[0])+\" : \"+lista_informacion[1]+\" : \"+str(lista_informacion[2])+\" : \"+lista_informacion[5])"
   ]
  },
  {
   "cell_type": "markdown",
   "metadata": {},
   "source": [
    "4. Accediendo a la lista que ocupa la quinta posición de `lista_informacion`, muestra por pantalla la suma de lo siguiente. Si en la quinta posición de tu `lista_informacion` no encuentras una lista, preguntanos:\n",
    "     - La concatenación de los dos elementos. \n",
    "     - La multiplicación del tamaño de la lista y el tamaño del número de caracteres que tiene el nombre de la calle.\n"
   ]
  },
  {
   "cell_type": "code",
   "execution_count": 12,
   "metadata": {
    "tags": []
   },
   "outputs": [
    {
     "output_type": "stream",
     "name": "stdout",
     "text": "15Recoletos\n54\n"
    }
   ],
   "source": [
    "print(str(lista_informacion[4][0])+lista_informacion[4][1])\n",
    "print(len(lista_informacion)*len(lista_informacion[1]))"
   ]
  },
  {
   "cell_type": "markdown",
   "metadata": {},
   "source": [
    "#### Apartado 2. "
   ]
  },
  {
   "cell_type": "markdown",
   "metadata": {},
   "source": [
    "Para resolver los siguientes ejercicios será necesario que definas una función para cada apartado, tú elige el nombre salvo que se especifique, pero asegúrate de que defines un único parámetro `lista`, que al llamar a la función se corresponderá con la variable `lista_información`. "
   ]
  },
  {
   "cell_type": "markdown",
   "metadata": {},
   "source": [
    "Nota: Cuando sea *recorre* se refiere a bucle `for`. "
   ]
  },
  {
   "cell_type": "markdown",
   "metadata": {},
   "source": [
    "   5. Mostrar por pantalla `\"Me gusta la tranquilidad\"` si te gusta más la montaña y `\"Me gusta ver las carnes al aire libre\"` si te gusta más la playa."
   ]
  },
  {
   "cell_type": "code",
   "execution_count": 13,
   "metadata": {
    "tags": []
   },
   "outputs": [
    {
     "output_type": "stream",
     "name": "stdout",
     "text": "Me gusta ver las carnes al aire libre\n"
    }
   ],
   "source": [
    "def gusto(lista):\n",
    "    if not lista[2]:\n",
    "        print(\"Me gusta la tranquilidad\")\n",
    "    else:\n",
    "        print(\"Me gusta ver las carnes al aire libre\")\n",
    "\n",
    "gusto(lista=lista_informacion)"
   ]
  },
  {
   "cell_type": "markdown",
   "metadata": {},
   "source": [
    "6. Mostrar por pantalla `\"Hoy estoy cansado\"` si has dormido menos de 7 horas y `\"Hoy me como el mundo\"` si has dormido más de 7 horas. "
   ]
  },
  {
   "cell_type": "code",
   "execution_count": 14,
   "metadata": {
    "tags": []
   },
   "outputs": [
    {
     "output_type": "stream",
     "name": "stdout",
     "text": "Hoy me como el mundo\n"
    }
   ],
   "source": [
    "def sueno(lista):\n",
    "    if int(lista[5])<7:\n",
    "        print(\"Hoy estoy cansado\")\n",
    "    elif int(lista[5])>7:\n",
    "        print(\"Hoy me como el mundo\")\n",
    "\n",
    "sueno(lista=(lista_informacion))"
   ]
  },
  {
   "cell_type": "markdown",
   "metadata": {},
   "source": [
    "7. Recorrer `lista` para mostrar todos los elementos que contiene. "
   ]
  },
  {
   "cell_type": "code",
   "execution_count": 15,
   "metadata": {
    "tags": []
   },
   "outputs": [
    {
     "output_type": "stream",
     "name": "stdout",
     "text": "15\nRecoletos\nTrue\nNone\n[15, 'Recoletos']\n8\n"
    }
   ],
   "source": [
    "def mostrar(lista):\n",
    "    for elem in lista:\n",
    "        print(elem)\n",
    "\n",
    "mostrar(lista=lista_informacion)"
   ]
  },
  {
   "cell_type": "markdown",
   "metadata": {},
   "source": [
    "8. Recorrer `lista` para mostrar todos los elementos que contiene concatenados con el string `\"--> OK\"`\n"
   ]
  },
  {
   "cell_type": "code",
   "execution_count": 16,
   "metadata": {
    "tags": []
   },
   "outputs": [
    {
     "output_type": "stream",
     "name": "stdout",
     "text": "15--> OK\nRecoletos--> OK\nTrue--> OK\nNone--> OK\n[15, 'Recoletos']--> OK\n8--> OK\n"
    }
   ],
   "source": [
    "def ok(lista):\n",
    "    for elem in lista:\n",
    "        print(str(elem)+\"--> OK\")\n",
    "\n",
    "ok(lista=lista_informacion) "
   ]
  },
  {
   "cell_type": "markdown",
   "metadata": {},
   "source": [
    "9. Recorrer `lista` para mostrar todos los elementos que contiene excepto el primero."
   ]
  },
  {
   "cell_type": "code",
   "execution_count": 17,
   "metadata": {
    "tags": []
   },
   "outputs": [
    {
     "output_type": "stream",
     "name": "stdout",
     "text": "Recoletos\nTrue\nNone\n[15, 'Recoletos']\n8\n"
    }
   ],
   "source": [
    "def primer_no(lista):\n",
    "    for elem in lista[1:]:\n",
    "       print(elem)\n",
    "\n",
    "primer_no(lista=lista_informacion)"
   ]
  },
  {
   "cell_type": "markdown",
   "metadata": {},
   "source": [
    "10. Recorrer `lista` para mostrar todos los elementos que contiene excepto el último. "
   ]
  },
  {
   "cell_type": "code",
   "execution_count": 18,
   "metadata": {
    "tags": []
   },
   "outputs": [
    {
     "output_type": "stream",
     "name": "stdout",
     "text": "15\nRecoletos\nTrue\nNone\n[15, 'Recoletos']\n"
    }
   ],
   "source": [
    "def ulti_no(lista):\n",
    "    for elem in lista[:-1]: # lista[0:len(lista)-1]\n",
    "       print(elem)\n",
    "\n",
    "ulti_no(lista=lista_informacion)"
   ]
  },
  {
   "cell_type": "markdown",
   "metadata": {},
   "source": [
    "11. Recorrer `lista` para mostrar todos los elementos que contiene excepto el número de la calle y las horas que has dormido."
   ]
  },
  {
   "cell_type": "code",
   "execution_count": 19,
   "metadata": {
    "tags": []
   },
   "outputs": [
    {
     "output_type": "stream",
     "name": "stdout",
     "text": "Recoletos\nTrue\nNone\n[15, 'Recoletos']\n"
    }
   ],
   "source": [
    "def medio(lista):\n",
    "    for elem in lista[1:-1]:\n",
    "       print(elem)\n",
    "\n",
    "medio(lista=lista_informacion)"
   ]
  },
  {
   "cell_type": "markdown",
   "metadata": {},
   "source": [
    "12 . Recorrer `lista` para mostrar todos los elementos que contiene excepto el primer elemento de la lista que se encuentra en quinta posición. "
   ]
  },
  {
   "cell_type": "code",
   "execution_count": 20,
   "metadata": {
    "tags": []
   },
   "outputs": [
    {
     "output_type": "stream",
     "name": "stdout",
     "text": "15\nRecoletos\nTrue\nNone\nRecoletos\n8\n"
    }
   ],
   "source": [
    "\"\"\"\n",
    "def elemento(lista):\n",
    "    for elem in lista:\n",
    "        if elem==lista[4][0]:\n",
    "            continue\n",
    "        print(elem)\n",
    "\n",
    "elemento(lista=lista_informacion) # Deja de mostrar el primer 15 en lugar del 15 de la lista porque la lista la toma como un elemento completo y nunca el elemento completo es 15.\n",
    "\n",
    "\n",
    "\n",
    "------------------------------------------------------------------\n",
    "\n",
    "ESTO SÍ FUNCIONA:\n",
    "\n",
    "def elemento(lista):\n",
    "    for elem in lista:\n",
    "        if type(elem)==list:\n",
    "            print(elem[1])\n",
    "        else:\n",
    "            print(elem)\n",
    "    \n",
    "\n",
    "elemento(lista=lista_informacion)\n",
    "\n",
    "\"\"\"\n",
    "def elemento(lista):\n",
    "    pos=0\n",
    "    for elem in lista:\n",
    "        if pos!=4:\n",
    "            print(elem)\n",
    "        elif pos==4:\n",
    "            print(elem[1])\n",
    "        pos=pos+1\n",
    "        \n",
    "elemento(lista_informacion)"
   ]
  },
  {
   "cell_type": "markdown",
   "metadata": {},
   "source": [
    "13. Recorrer `lista` para mostrar todos los elementos que contiene excepto el que contiene la información sobre si os gusta la montaña o la playa."
   ]
  },
  {
   "cell_type": "code",
   "execution_count": 21,
   "metadata": {
    "tags": []
   },
   "outputs": [
    {
     "output_type": "stream",
     "name": "stdout",
     "text": "15\nRecoletos\nNone\n[15, 'Recoletos']\n8\n"
    }
   ],
   "source": [
    "def nogusto(lista):\n",
    "    for elem in lista:\n",
    "        if elem==lista[2]:\n",
    "            continue\n",
    "        print(elem)\n",
    "\n",
    "nogusto(lista=lista_informacion)"
   ]
  },
  {
   "cell_type": "markdown",
   "metadata": {},
   "source": [
    "14. Recorrer `lista` para mostrar el último elemento."
   ]
  },
  {
   "cell_type": "code",
   "execution_count": 22,
   "metadata": {
    "tags": []
   },
   "outputs": [
    {
     "output_type": "stream",
     "name": "stdout",
     "text": "8\n"
    }
   ],
   "source": [
    "def ulti(lista):\n",
    "    for elem in lista:\n",
    "        if elem!=lista[-1]:\n",
    "            continue\n",
    "        print(elem)\n",
    "\n",
    "ulti(lista=lista_informacion)"
   ]
  },
  {
   "cell_type": "markdown",
   "metadata": {},
   "source": [
    "15. Crear una variable llamada `zona` y darle el valor de **None**. Recorrer `lista` y actualizar `zona` a **True** si y solo si has dormido más de 7 horas, te gusta la playa y la suma de las horas que has dormido más el número de The Bridge es menor a 24. Para cualquier otro caso, `zona` será **False**. Retornar el valor de `zona`. Esta función se llamará `funcion_zona`."
   ]
  },
  {
   "cell_type": "code",
   "execution_count": 23,
   "metadata": {
    "tags": []
   },
   "outputs": [
    {
     "output_type": "stream",
     "name": "stdout",
     "text": "True\n"
    }
   ],
   "source": [
    "# TODO @cristidatas Comprobar funcionamiento de la otra solución con for\n",
    "\n",
    "def funcion_zona(lista):\n",
    "    zona = None\n",
    "    con1 = int(lista[-1]) > 7\n",
    "    con2 = lista[2] == True\n",
    "    con3 = (int(lista[-1]) + lista[0]) < 24\n",
    "    for x in lista:\n",
    "        if con1 and con2 and con3:\n",
    "            zona = True\n",
    "            break\n",
    "        else:\n",
    "            zona = False\n",
    "            break\n",
    "    return zona\n",
    "\n",
    "\n",
    "z = funcion_zona(lista=lista_informacion)\n",
    "print(z)"
   ]
  },
  {
   "cell_type": "code",
   "execution_count": 24,
   "metadata": {
    "tags": []
   },
   "outputs": [
    {
     "output_type": "execute_result",
     "data": {
      "text/plain": "True"
     },
     "metadata": {},
     "execution_count": 24
    }
   ],
   "source": [
    "zona=None\n",
    "\n",
    "def funcion_zona(lista):\n",
    "    if (int(lista[-1])>7) and (lista[2])==True and (int(lista[-1])+lista[0])<24:\n",
    "        zona=True\n",
    "    else:\n",
    "        zona=False\n",
    "    return zona\n",
    "   \n",
    "funcion_zona(lista=lista_informacion) # ¿No hace falta for?\n"
   ]
  },
  {
   "cell_type": "markdown",
   "metadata": {},
   "source": [
    "16. Define una función llamada `funcion_comprobacion` que recibe solo un parámetro llamado `valor_zona` que cuando llames a la función será el valor que devuelve la función `funcion_zona`, y que devuelva el valor de `valor_zona` si es **True**."
   ]
  },
  {
   "cell_type": "code",
   "execution_count": 25,
   "metadata": {},
   "outputs": [
    {
     "output_type": "execute_result",
     "data": {
      "text/plain": "True"
     },
     "metadata": {},
     "execution_count": 25
    }
   ],
   "source": [
    "def funcion_comprobacion(valor_zona):\n",
    "    if valor_zona==True:\n",
    "        return(valor_zona)\n",
    "        print(valor_zona)\n",
    "\n",
    "\n",
    "funcion_comprobacion(valor_zona=funcion_zona(lista_informacion))\n"
   ]
  },
  {
   "cell_type": "markdown",
   "metadata": {},
   "source": [
    "17. Define una función con el nombre que más te guste que utilice la función [enumerate](https://www.programiz.com/python-programming/methods/built-in/enumerate) con un bucle `for` utilizando la lista de alturas y la lista de alumnos creada en días anteriores. Las listas han de estar ordenadas para mostrar la altura acompañada del nombre del alumno al que pertenece. "
   ]
  },
  {
   "cell_type": "code",
   "execution_count": 26,
   "metadata": {
    "tags": []
   },
   "outputs": [
    {
     "output_type": "stream",
     "name": "stdout",
     "text": "00 \t>>>\t Jalex    \t>>>\t 1.8\n01 \t>>>\t Tomas    \t>>>\t 1.8\n02 \t>>>\t David    \t>>>\t 1.81\n03 \t>>>\t Natalio    \t>>>\t 1.73\n04 \t>>>\t Monica    \t>>>\t 1.73\n05 \t>>>\t Roxanna    \t>>>\t 1.75\n06 \t>>>\t Filipa    \t>>>\t 1.64\n07 \t>>>\t Elsa    \t>>>\t 1.89\n08 \t>>>\t Cristina    \t>>>\t 1.7\n09 \t>>>\t Clara    \t>>>\t 1.67\n10 \t>>>\t Alba    \t>>>\t 1.68\n11 \t>>>\t Valeria    \t>>>\t 1.6\n12 \t>>>\t Jose Luis    \t>>>\t 1.69\n13 \t>>>\t Gabriel    \t>>>\t 1.76\n14 \t>>>\t Rochi    \t>>>\t 1.6\n15 \t>>>\t Jose Maria    \t>>>\t 1.75\n"
    }
   ],
   "source": [
    "lista_alumnos = [[\"Jalex\", 6, 47, 1.80], [\"Tomas\", 5, 31, 1.80], [\"David\", 6, 39, 1.81], [\"Natalio\", 2, 29, 1.73], [\"Monica\", 3, 47, 1.73], [\"Roxanna\", 4,24,1.75], [\"Filipa\", 5,34,1.64], [\"Elsa\", 4, 36, 1.89], [\"Cristina\", 3, 46, 1.70], [\"Clara\", 6, 29, 1.67], [\"Alba\", 3, 29, 1.68], [\"Valeria\",1, 40, 1.60], [\"Jose Luis\", 4, 47, 1.69], [\"Gabriel\", 1, 28, 1.76], [\"Rochi\", 2, 38, 1.60], [\"Jose Maria\", 5, 51, 1.75]]\n",
    "\n",
    "def alt(lista):\n",
    "    for orden,elem in enumerate(lista):\n",
    "        print(\"%02d\" % orden,\"\\t>>>\\t\",elem[0],\"   \\t>>>\\t\", elem[3])\n",
    "\n",
    "alt(lista=lista_alumnos)\n"
   ]
  },
  {
   "cell_type": "markdown",
   "metadata": {},
   "source": [
    "18. Hacer un programa que pregunte al usuario si le gusta la montaña y, si es que no, llame a la función `funcion_zona`. "
   ]
  },
  {
   "cell_type": "code",
   "execution_count": 27,
   "metadata": {},
   "outputs": [],
   "source": [
    "gusto=input(\"¿Te gusta la montaña? (S/N)\").upper()\n",
    "if gusto==\"N\":\n",
    "    funcion_zona(lista_informacion) #también se puede hacer con pass en \"S\""
   ]
  },
  {
   "cell_type": "markdown",
   "metadata": {},
   "source": [
    "19. Definir una función que guarde en una variable el valor de \"nada\" y lo devuelva por pantalla. Además concatenar su valor con el número de The Bridge y mostrarlo por pantalla. Además, mostrar por pantalla un booleano **True** si el tamaño de la palabra concatenada es 6. Sino, será **False**. La función debe retornar el valor **True** o **False**. El nombre de la función será `f_s`."
   ]
  },
  {
   "cell_type": "code",
   "execution_count": 28,
   "metadata": {
    "tags": []
   },
   "outputs": [
    {
     "output_type": "stream",
     "name": "stdout",
     "text": "None\nNone15\nTrue\n"
    },
    {
     "output_type": "execute_result",
     "data": {
      "text/plain": "True"
     },
     "metadata": {},
     "execution_count": 28
    }
   ],
   "source": [
    "def f_s(lista):\n",
    "    nothing=str(lista[3]) # También puede ser simplemente \"nada\"\n",
    "    print(nothing)\n",
    "    palabra=(nothing+str(lista[0]))\n",
    "    print(palabra)\n",
    "    if len(palabra)==6:\n",
    "        print(True)\n",
    "        return(True)\n",
    "    else:\n",
    "        print(False)\n",
    "        return(False)\n",
    "    \n",
    "\n",
    "f_s(lista=lista_informacion)"
   ]
  },
  {
   "cell_type": "markdown",
   "metadata": {},
   "source": [
    "20. Crear una lista `lista_aux` con 7 elementos, los que queráis. Después, crear una función `funcion_usa_f_s` que reciba como parámetros `f_s` y `lista`.  Si el valor de `f_s` es **True**, entonces borrar un elemento de `lista`. Si `lista` tiene algún elemento, entonces repetir el proceso hasta que no tenga elementos. El argumento para `lista` ha de ser `lista_aux` y para `f_s` será la función `f_s` del punto anterior."
   ]
  },
  {
   "cell_type": "code",
   "execution_count": 29,
   "metadata": {
    "tags": []
   },
   "outputs": [
    {
     "output_type": "stream",
     "name": "stdout",
     "text": "None\nNone15\nTrue\n[0, 1, 2, 3, 4, 5, 6]\n[0, 1, 2, 3, 4, 5]\n[0, 1, 2, 3, 4]\n[0, 1, 2, 3]\n[0, 1, 2]\n[0, 1]\n[0]\n[]\n"
    }
   ],
   "source": [
    "lista_aux=[0,1,2,3,4,5,6,7]\n",
    "\n",
    "def funcion_usa_f_s(f_s,lista):\n",
    "    if f_s==True:\n",
    "        while len(lista)>0:\n",
    "            lista.pop()\n",
    "            print(lista)\n",
    "            \n",
    "funcion_usa_f_s(f_s(lista_informacion),lista_aux)\n"
   ]
  },
  {
   "cell_type": "markdown",
   "metadata": {},
   "source": [
    "21. Definir una función `numeros_pares` que tenga un parámetro de entrada `arg1`, tipo integer. La función debe retornar una lista de números de tamaño `arg1` siendo todos ellos números pares, mostrando dicha lista por pantalla."
   ]
  },
  {
   "cell_type": "code",
   "execution_count": 30,
   "metadata": {
    "tags": []
   },
   "outputs": [
    {
     "output_type": "stream",
     "name": "stdout",
     "text": "[0, 2, 4, 6, 8, 10, 12, 14, 16, 18]\n"
    },
    {
     "output_type": "execute_result",
     "data": {
      "text/plain": "[0, 2, 4, 6, 8, 10, 12, 14, 16, 18]"
     },
     "metadata": {},
     "execution_count": 30
    }
   ],
   "source": [
    "def numeros_pares(arg1):\n",
    "    num=[]\n",
    "    acum=0\n",
    "    while len(num)<arg1:\n",
    "        num.append(acum)\n",
    "        acum+=2 # si pongo el acumulador antes de append no añade el 0.\n",
    "    print(num)\n",
    "    return(num)\n",
    "\n",
    "numeros_pares(10)"
   ]
  },
  {
   "cell_type": "markdown",
   "metadata": {},
   "source": [
    "22. Crear una función que tenga una variable de entrada `arg1`, que será la lista de números pares del apartado anterior, y que elimine elementos de la lista, uno a uno, si `arg1` tiene un tamaño divisible entre 2 y, si no lo tiene, añade, solo una vez, el valor de la función `f_s`."
   ]
  },
  {
   "cell_type": "code",
   "execution_count": 31,
   "metadata": {
    "tags": []
   },
   "outputs": [
    {
     "output_type": "stream",
     "name": "stdout",
     "text": "[0, 2, 4, 6, 8, 10, 12, 14, 16, 18, 20, 22, 24, 26, 28, 30, 32, 34]\n[0, 2, 4, 6, 8, 10, 12, 14, 16, 18, 20, 22, 24, 26, 28, 30, 32, 34]\n[0, 2, 4, 6, 8, 10, 12, 14, 16, 18, 20, 22, 24, 26, 28, 30, 32]\n[0, 2, 4, 6, 8, 10, 12, 14, 16, 18, 20, 22, 24, 26, 28, 30]\n[0, 2, 4, 6, 8, 10, 12, 14, 16, 18, 20, 22, 24, 26, 28]\n[0, 2, 4, 6, 8, 10, 12, 14, 16, 18, 20, 22, 24, 26]\n[0, 2, 4, 6, 8, 10, 12, 14, 16, 18, 20, 22, 24]\n[0, 2, 4, 6, 8, 10, 12, 14, 16, 18, 20, 22]\n[0, 2, 4, 6, 8, 10, 12, 14, 16, 18, 20]\n[0, 2, 4, 6, 8, 10, 12, 14, 16, 18]\n[0, 2, 4, 6, 8, 10, 12, 14, 16]\n[0, 2, 4, 6, 8, 10, 12, 14]\n[0, 2, 4, 6, 8, 10, 12]\n[0, 2, 4, 6, 8, 10]\n[0, 2, 4, 6, 8]\n[0, 2, 4, 6]\n[0, 2, 4]\n[0, 2]\n[0]\n"
    }
   ],
   "source": [
    "def mas_num(arg1):\n",
    "    if len(arg1)%2==0:\n",
    "        for x in range(len(arg1)):\n",
    "            print(arg1) # si pongo el print después de pop no incluye el 0.\n",
    "            arg1.pop()\n",
    "            \n",
    "    else:\n",
    "        arg1.append(f_s(lista_informacion))\n",
    "        print(arg1)\n",
    "\n",
    "\n",
    "mas_num(numeros_pares(18))\n"
   ]
  },
  {
   "cell_type": "markdown",
   "metadata": {},
   "source": [
    "## Ejercicio 3."
   ]
  },
  {
   "cell_type": "markdown",
   "metadata": {},
   "source": [
    "Para este ejercicio se utilizará la lista `lista_información`. Lista a la que deberás añadir las siguientes variables utilizando el método [append](https://www.w3schools.com/python/ref_list_append.asp):"
   ]
  },
  {
   "cell_type": "markdown",
   "metadata": {},
   "source": [
    "- Un booleano que sea True si utilizas gafas. False para lo contrario. \n",
    "- Un entero que represente tu edad. \n",
    "- Un float que represente el dinero que te has gastado en tu última compra.\n",
    "- Un string que represente el nombre de uno de tus tí@s. Si no tienes, el nombre de uno de tus herman@s. Si no tienes, alguno de tus abuel@s. Si no tienes, el nombre de tu mejor amigo. Y, si no tienes, el nombre de tu psicólog@.\n",
    "- Una lista que tenga como tamaño 5. Cada una de las posiciones debe representar los números que más te gusten en el rango [[0-100]] dividido entre 10. Es decir, si eliges el 11, el número sería el 1.1. Si eliges el 100, sería el 10.  "
   ]
  },
  {
   "cell_type": "code",
   "execution_count": 32,
   "metadata": {
    "tags": []
   },
   "outputs": [
    {
     "output_type": "stream",
     "name": "stdout",
     "text": "[15, 'Recoletos', True, None, [15, 'Recoletos'], '8', False, 46, 1.0, 'Antonio', [1.3, 0.9, 1.5, 3.0, 1.9]]\n"
    }
   ],
   "source": [
    "lista_informacion.append(False)\n",
    "lista_informacion.append(46)\n",
    "lista_informacion.append(1.0)\n",
    "lista_informacion.append(\"Antonio\")\n",
    "lista_informacion.append([1.3,0.9,1.5,3.0,1.9])\n",
    "print(lista_informacion)"
   ]
  },
  {
   "cell_type": "markdown",
   "metadata": {},
   "source": [
    "Por último, han de eliminarse las variables `nada` y `lista_direccion` de dos formas:\n",
    "\n",
    "- `nada` con el método [remove](https://www.programiz.com/python-programming/methods/list/remove) de una lista. \n",
    "- `lista_direccion` con el método [pop](https://www.programiz.com/python-programming/methods/list/pop) con el que se puede eliminar el elemento de una lista dada una posición. "
   ]
  },
  {
   "cell_type": "code",
   "execution_count": 33,
   "metadata": {
    "tags": []
   },
   "outputs": [
    {
     "output_type": "stream",
     "name": "stdout",
     "text": "[15, 'Recoletos', True, None, [15, 'Recoletos'], '8', False, 46, 1.0, 'Antonio', [1.3, 0.9, 1.5, 3.0, 1.9]]\n[15, 'Recoletos', True, '8', False, 46, 1.0, 'Antonio', [1.3, 0.9, 1.5, 3.0, 1.9]]\n"
    }
   ],
   "source": [
    "print(lista_informacion)\n",
    "nada=lista_informacion[3]\n",
    "lista_informacion.remove(nada)\n",
    "lista_informacion.pop(3)\n",
    "print(lista_informacion)"
   ]
  },
  {
   "cell_type": "markdown",
   "metadata": {},
   "source": [
    "## Ejercicio 4."
   ]
  },
  {
   "cell_type": "markdown",
   "metadata": {},
   "source": [
    "**Creación de funciones con return preparatorio.**"
   ]
  },
  {
   "cell_type": "markdown",
   "metadata": {},
   "source": [
    "A partir de ahora solo se utilizará la `lista_informacion` actualizada. La `lista_informacion` debe contener 9 elementos. \n",
    "\n"
   ]
  },
  {
   "cell_type": "markdown",
   "metadata": {},
   "source": [
    "\n",
    "1. Función `nb` que reciba por parámetro `lista` y que retorne el número de The Bridge.\n",
    "\n"
   ]
  },
  {
   "cell_type": "code",
   "execution_count": 34,
   "metadata": {},
   "outputs": [
    {
     "output_type": "execute_result",
     "data": {
      "text/plain": "15"
     },
     "metadata": {},
     "execution_count": 34
    }
   ],
   "source": [
    "def nb(lista):\n",
    "    return(lista[0])\n",
    "\n",
    "nb(lista_informacion)"
   ]
  },
  {
   "cell_type": "markdown",
   "metadata": {},
   "source": [
    "2. Función `nc` que reciba por parámetro `lista` y que retorne el nombre de la calle de The Bridge.\n"
   ]
  },
  {
   "cell_type": "code",
   "execution_count": 35,
   "metadata": {},
   "outputs": [
    {
     "output_type": "execute_result",
     "data": {
      "text/plain": "'Recoletos'"
     },
     "metadata": {},
     "execution_count": 35
    }
   ],
   "source": [
    "def nc(lista):\n",
    "    return(lista[1])\n",
    "\n",
    "nc(lista_informacion)"
   ]
  },
  {
   "cell_type": "markdown",
   "metadata": {},
   "source": [
    "3. Función `gp` que reciba por parámetro `lista` y que retorne tu gusto personal.\n"
   ]
  },
  {
   "cell_type": "code",
   "execution_count": 36,
   "metadata": {},
   "outputs": [
    {
     "output_type": "execute_result",
     "data": {
      "text/plain": "True"
     },
     "metadata": {},
     "execution_count": 36
    }
   ],
   "source": [
    "def gp(lista):\n",
    "    return(lista[2])\n",
    "\n",
    "gp(lista_informacion)"
   ]
  },
  {
   "cell_type": "markdown",
   "metadata": {},
   "source": [
    "4. Función `hs` que reciba por parámetro `lista` y que retorne las horas de sueño.\n"
   ]
  },
  {
   "cell_type": "code",
   "execution_count": 37,
   "metadata": {},
   "outputs": [
    {
     "output_type": "execute_result",
     "data": {
      "text/plain": "'8'"
     },
     "metadata": {},
     "execution_count": 37
    }
   ],
   "source": [
    "def hs(lista):\n",
    "    return(lista[3])\n",
    "\n",
    "hs(lista_informacion)"
   ]
  },
  {
   "cell_type": "markdown",
   "metadata": {},
   "source": [
    "5. Función `ul` que reciba por parámetro `lista` y que retorne la última posicón de `lista`."
   ]
  },
  {
   "cell_type": "code",
   "execution_count": 38,
   "metadata": {},
   "outputs": [
    {
     "output_type": "execute_result",
     "data": {
      "text/plain": "[1.3, 0.9, 1.5, 3.0, 1.9]"
     },
     "metadata": {},
     "execution_count": 38
    }
   ],
   "source": [
    "def ul(lista):\n",
    "    return(lista[-1])\n",
    "\n",
    "ul(lista_informacion)"
   ]
  },
  {
   "cell_type": "markdown",
   "metadata": {},
   "source": [
    "A partir de este momento, si se requiere utilizar uno de estos valores, se accederá a ellos a partir de las funciones anteriormente creadas, no directamente desde la lista."
   ]
  },
  {
   "cell_type": "markdown",
   "metadata": {},
   "source": [
    "## Apartado 5. "
   ]
  },
  {
   "cell_type": "markdown",
   "metadata": {},
   "source": [
    "**Break en bucles for.**"
   ]
  },
  {
   "cell_type": "markdown",
   "metadata": {},
   "source": [
    "1. Función `string_mayor_5` que reciba por parámetro `lista` y que al llamarla recibirá como argumento`lista_informacion`. Se debe recorrer `lista` transformando cada elemento en string y, si el tamaño del string es mayor a 5, el bucle debe parar. La función ha de devolver el primer elemento con string mayor a 5."
   ]
  },
  {
   "cell_type": "code",
   "execution_count": 39,
   "metadata": {
    "tags": []
   },
   "outputs": [
    {
     "output_type": "stream",
     "name": "stdout",
     "text": "15 >>> <class 'str'>\nRecoletos >>> <class 'str'>\n"
    },
    {
     "output_type": "execute_result",
     "data": {
      "text/plain": "'Recoletos'"
     },
     "metadata": {},
     "execution_count": 39
    }
   ],
   "source": [
    "def string_mayor_5(lista):\n",
    "    for elem in lista:\n",
    "        elem=str(elem)\n",
    "        print(elem,\">>>\",type(elem))\n",
    "        if len(elem)>5:\n",
    "            return(elem)\n",
    "   \n",
    "string_mayor_5(lista_informacion)"
   ]
  },
  {
   "cell_type": "code",
   "execution_count": 40,
   "metadata": {
    "tags": []
   },
   "outputs": [
    {
     "output_type": "stream",
     "name": "stdout",
     "text": "15 >>> <class 'str'>\nRecoletos >>> <class 'str'>\n"
    },
    {
     "output_type": "execute_result",
     "data": {
      "text/plain": "'Recoletos'"
     },
     "metadata": {},
     "execution_count": 40
    }
   ],
   "source": [
    "def string_mayor_5(lista):\n",
    "    for elem in lista:\n",
    "        elem=str(elem)\n",
    "        print(elem,\">>>\",type(elem))\n",
    "        if len(elem)>5:\n",
    "            break\n",
    "    return(elem)\n",
    "   \n",
    "string_mayor_5(lista_informacion)"
   ]
  },
  {
   "cell_type": "markdown",
   "metadata": {},
   "source": [
    "2. Función `lista_consecutivos` que recibe por parámetro `limite`. Debe retornar una lista con números que empiece en el 0 y acabe en el número `limite`. Al llamar a la función `limite` será 18. "
   ]
  },
  {
   "cell_type": "code",
   "execution_count": 41,
   "metadata": {
    "tags": []
   },
   "outputs": [
    {
     "output_type": "execute_result",
     "data": {
      "text/plain": "[0, 1, 2, 3, 4, 5, 6, 7, 8, 9, 10, 11, 12, 13, 14, 15, 16, 17, 18]"
     },
     "metadata": {},
     "execution_count": 41
    }
   ],
   "source": [
    "\n",
    "def lista_consecutivos(limite):\n",
    "    consec=[]\n",
    "    for x in range(limite+1):\n",
    "        consec.append(x)\n",
    "    return(consec)\n",
    "\n",
    "lista_consecutivos(18)"
   ]
  },
  {
   "cell_type": "code",
   "execution_count": 42,
   "metadata": {},
   "outputs": [
    {
     "output_type": "execute_result",
     "data": {
      "text/plain": "[0, 1, 2, 3, 4, 5, 6, 7, 8, 9, 10, 11, 12, 13, 14, 15, 16, 17, 18]"
     },
     "metadata": {},
     "execution_count": 42
    }
   ],
   "source": [
    "def lista_consecutivos(limite):\n",
    "    consec=[]\n",
    "    for x in range(limite+1):\n",
    "        if x<=limite:\n",
    "            consec.append(x)\n",
    "        else:\n",
    "            break\n",
    "    return(consec)\n",
    "\n",
    "lista_consecutivos(18)"
   ]
  },
  {
   "cell_type": "markdown",
   "metadata": {},
   "source": [
    "3. Define la función `posicion_15` que recibe dos parámetros, `funcion_lista_consecutivos` y `lista`. Esta función deberá devolver el elemento de la posición 15 de la lista que retorna la función `lista_consecutivos`. \n",
    "\n",
    "Dentro de esta función `posicion_15`, es donde habrá que llamar a `funcion_lista_consecutivos` dándole como argumento el tamaño de `lista` multiplicado por 2.\n",
    "\n",
    "```python\n",
    "#Ejemplo:\n",
    "x = posicion_15(funcion_lista_consecutivos=lista_consecutivos, lista=lista_informacion)\n",
    "``` \n",
    "\n",
    "\n"
   ]
  },
  {
   "cell_type": "code",
   "execution_count": 43,
   "metadata": {
    "tags": []
   },
   "outputs": [
    {
     "output_type": "execute_result",
     "data": {
      "text/plain": "15"
     },
     "metadata": {},
     "execution_count": 43
    }
   ],
   "source": [
    "def posicion_15(funcion_lista_consecutivos,lista):\n",
    "    numeros=funcion_lista_consecutivos((len(lista))*2)\n",
    "    return(numeros[15])\n",
    "    \n",
    "posicion_15(funcion_lista_consecutivos=lista_consecutivos, lista=lista_informacion)\n"
   ]
  },
  {
   "cell_type": "markdown",
   "metadata": {},
   "source": [
    "## Ejercicio 6. "
   ]
  },
  {
   "cell_type": "markdown",
   "metadata": {},
   "source": [
    "**Bucle while.**"
   ]
  },
  {
   "cell_type": "markdown",
   "metadata": {},
   "source": [
    "1. Crear una función que reciba por parámetro `lista` y que muestre todos los elementos que tiene usando un bucle `while`. Llamar a la función con el argumento `lista_informacion`."
   ]
  },
  {
   "cell_type": "code",
   "execution_count": 44,
   "metadata": {
    "tags": []
   },
   "outputs": [
    {
     "output_type": "stream",
     "name": "stdout",
     "text": "15\nRecoletos\nTrue\n8\nFalse\n46\n1.0\nAntonio\n[1.3, 0.9, 1.5, 3.0, 1.9]\n"
    }
   ],
   "source": [
    "# Corresponde al ejercicio 02.07\n",
    "\n",
    "def bucle(lista):\n",
    "    acum = 0\n",
    "    tamano_lista = len(lista)\n",
    "    while acum < tamano_lista:\n",
    "        print(lista[acum])\n",
    "        acum += 1\n",
    "\n",
    "\n",
    "bucle(lista=lista_informacion)\n"
   ]
  },
  {
   "cell_type": "markdown",
   "metadata": {},
   "source": [
    "2. Realizar todos los apartados del **ejercicio 2** cuyo enunciado aparece la palabra *'recorrer'* con bucle `while` en vez de bucle `for`."
   ]
  },
  {
   "cell_type": "code",
   "execution_count": 45,
   "metadata": {
    "tags": []
   },
   "outputs": [
    {
     "output_type": "stream",
     "name": "stdout",
     "text": "15--> OK\nRecoletos--> OK\nTrue--> OK\n8--> OK\nFalse--> OK\n46--> OK\n1.0--> OK\nAntonio--> OK\n[1.3, 0.9, 1.5, 3.0, 1.9]--> OK\n"
    }
   ],
   "source": [
    "# Corresponde al ejercicio 02.08\n",
    "\n",
    "\n",
    "def ok(lista):\n",
    "    acum = 0\n",
    "    tamano_lista = len(lista)\n",
    "    while acum < tamano_lista:\n",
    "        print(str(lista[acum])+\"--> OK\")\n",
    "        acum += 1\n",
    "\n",
    "\n",
    "ok(lista=lista_informacion)\n"
   ]
  },
  {
   "cell_type": "code",
   "execution_count": 46,
   "metadata": {
    "tags": []
   },
   "outputs": [
    {
     "output_type": "stream",
     "name": "stdout",
     "text": "Recoletos\nTrue\n8\nFalse\n46\n1.0\nAntonio\n[1.3, 0.9, 1.5, 3.0, 1.9]\n"
    }
   ],
   "source": [
    "# Corresponde al ejercicio 02.09\n",
    "\n",
    "\n",
    "def primer(lista):\n",
    "    acum = 1\n",
    "    tamano_lista = len(lista)\n",
    "    while acum < tamano_lista:\n",
    "        print(lista[acum])\n",
    "        acum += 1\n",
    "\n",
    "\n",
    "primer(lista=lista_informacion)"
   ]
  },
  {
   "cell_type": "code",
   "execution_count": 47,
   "metadata": {
    "tags": []
   },
   "outputs": [
    {
     "output_type": "stream",
     "name": "stdout",
     "text": "15\nRecoletos\nTrue\n8\nFalse\n46\n1.0\nAntonio\n"
    }
   ],
   "source": [
    "# Corresponde al ejercicio 02.10\n",
    "\n",
    "\n",
    "def ulti(lista):\n",
    "    acum = 0\n",
    "    tamano_lista = len(lista)-1\n",
    "    while acum < tamano_lista:\n",
    "        print(lista[acum])\n",
    "        acum += 1\n",
    "\n",
    "\n",
    "ulti(lista=lista_informacion)"
   ]
  },
  {
   "cell_type": "code",
   "execution_count": 48,
   "metadata": {
    "tags": []
   },
   "outputs": [
    {
     "output_type": "stream",
     "name": "stdout",
     "text": "Recoletos\nTrue\n8\nFalse\n46\n1.0\nAntonio\n"
    }
   ],
   "source": [
    "# Corresponde al ejercicio 02.11\n",
    "# 1) Solución en el caso de no mostrar ni el primero ni el último:\n",
    "\n",
    "def medium(lista):\n",
    "    acum = 1\n",
    "    tamano_lista = len(lista)-1\n",
    "    while acum < tamano_lista:\n",
    "        print(lista[acum])\n",
    "        acum += 1\n",
    "        \n",
    "\n",
    "\n",
    "medium(lista=lista_informacion)"
   ]
  },
  {
   "cell_type": "code",
   "execution_count": 49,
   "metadata": {
    "tags": []
   },
   "outputs": [
    {
     "output_type": "stream",
     "name": "stdout",
     "text": "Recoletos\nTrue\nFalse\n46\n1.0\nAntonio\n[1.3, 0.9, 1.5, 3.0, 1.9]\n"
    }
   ],
   "source": [
    "# Corresponde al ejercicio 02.11\n",
    "# 2) Solución en el caso de no mostrar ni el número de calle ni horas de sueño:\n",
    "\n",
    "def alguno(lista):\n",
    "    acum = 1\n",
    "    tamano_lista = len(lista)\n",
    "    while acum < tamano_lista:\n",
    "        if acum != 3:\n",
    "            print(lista[acum])\n",
    "        acum += 1\n",
    "   \n",
    "alguno(lista=lista_informacion)"
   ]
  },
  {
   "cell_type": "code",
   "execution_count": 50,
   "metadata": {
    "tags": []
   },
   "outputs": [
    {
     "output_type": "stream",
     "name": "stdout",
     "text": "15\nRecoletos\nTrue\n8\nFalse\n46\n1.0\nAntonio\n[0.9, 1.5, 3.0, 1.9]\n"
    }
   ],
   "source": [
    "# Corresponde al ejercicio 02.12\n",
    "# Como ya no está ese elemento (4[0]) lo hago con el último que también es una lista(-1[0]):\n",
    "\n",
    "def ulti_cero(lista):\n",
    "    elem = 0\n",
    "    tamano_lista = len(lista)\n",
    "    while elem < tamano_lista:\n",
    "        if elem != 8:\n",
    "            print(lista[elem])\n",
    "            elem += 1\n",
    "        else:\n",
    "            print(lista[elem][1:])\n",
    "            elem+=1\n",
    "            \n",
    "\n",
    "    \n",
    "ulti_cero(lista=lista_informacion)"
   ]
  },
  {
   "cell_type": "code",
   "execution_count": 51,
   "metadata": {
    "tags": []
   },
   "outputs": [
    {
     "output_type": "stream",
     "name": "stdout",
     "text": "15\nRecoletos\n8\nFalse\n46\n1.0\nAntonio\n[1.3, 0.9, 1.5, 3.0, 1.9]\n"
    }
   ],
   "source": [
    "# Corresponde al ejercicio 02.13\n",
    "# Como ahora hay dos booleanos la solución la busco por posición o porque sea igual a True, que es mi gusto y es distinto al siguiente booleano.\n",
    "\"\"\"\n",
    "# 1) Por posición: \n",
    "\n",
    "def gusti_pos(lista):\n",
    "    elem = 0\n",
    "    tamano_lista = len(lista)\n",
    "    while elem < tamano_lista:\n",
    "        if elem != 2:\n",
    "            print(lista[elem])\n",
    "            elem += 1\n",
    "        else:\n",
    "            elem+=1           \n",
    "#gusti_pos(lista=lista_informacion)\n",
    "\"\"\"\n",
    "\n",
    "# 2) Igual a True: \n",
    "# Preguntar por resultado sin isinstance: ¿por qué no muestra el 1.0???\n",
    "\n",
    "def gusti_true(lista):\n",
    "    elem = 0\n",
    "    tamano_lista = len(lista)\n",
    "    while elem < tamano_lista:\n",
    "        if isinstance(lista[elem],(bool)) and lista[elem]==True:\n",
    "            elem += 1\n",
    "        else:\n",
    "            print(lista[elem])\n",
    "            elem+=1\n",
    "\n",
    "gusti_true(lista=lista_informacion)\n",
    "\n"
   ]
  },
  {
   "cell_type": "code",
   "execution_count": 52,
   "metadata": {
    "tags": []
   },
   "outputs": [
    {
     "output_type": "stream",
     "name": "stdout",
     "text": "[1.3, 0.9, 1.5, 3.0, 1.9]\n"
    }
   ],
   "source": [
    "# Corresponde al ejercicio 02.14\n",
    "\n",
    "def solo_ulti(lista):\n",
    "    elem = 0\n",
    "    tamano_lista = len(lista)\n",
    "    while elem < tamano_lista:\n",
    "        if elem == tamano_lista-1: #Preguntar por qué no funciona -1 solo\n",
    "            print(lista[elem])\n",
    "            break\n",
    "        else:\n",
    "           elem+=1\n",
    "\n",
    "    \n",
    "solo_ulti(lista=lista_informacion)"
   ]
  },
  {
   "cell_type": "code",
   "execution_count": 53,
   "metadata": {},
   "outputs": [
    {
     "output_type": "execute_result",
     "data": {
      "text/plain": "True"
     },
     "metadata": {},
     "execution_count": 53
    }
   ],
   "source": [
    "# Corresponde al ejercicio 02.15\n",
    "\n",
    "def funcion_zona2(lista):\n",
    "    zona=None\n",
    "    elem = 0\n",
    "    con1 = int(lista[3]) > 7\n",
    "    con2 = lista[2] == True\n",
    "    con3 = (int(lista[3]) + lista[0]) < 24\n",
    "    tamano_lista = len(lista)\n",
    "    while elem < tamano_lista:\n",
    "        if con1 and con2 and con3:\n",
    "            zona = True\n",
    "            break\n",
    "        else:\n",
    "            zona = False\n",
    "            break\n",
    "    return zona\n",
    "    \n",
    "funcion_zona2(lista=lista_informacion)"
   ]
  },
  {
   "cell_type": "code",
   "execution_count": 54,
   "metadata": {
    "tags": []
   },
   "outputs": [
    {
     "output_type": "stream",
     "name": "stdout",
     "text": "00 \t>>>\t Jalex    \t>>>\t 1.8\n01 \t>>>\t Tomas    \t>>>\t 1.8\n02 \t>>>\t David    \t>>>\t 1.81\n03 \t>>>\t Natalio    \t>>>\t 1.73\n04 \t>>>\t Monica    \t>>>\t 1.73\n05 \t>>>\t Roxanna    \t>>>\t 1.75\n06 \t>>>\t Filipa    \t>>>\t 1.64\n07 \t>>>\t Elsa    \t>>>\t 1.89\n08 \t>>>\t Cristina    \t>>>\t 1.7\n09 \t>>>\t Clara    \t>>>\t 1.67\n10 \t>>>\t Alba    \t>>>\t 1.68\n11 \t>>>\t Valeria    \t>>>\t 1.6\n12 \t>>>\t Jose Luis    \t>>>\t 1.69\n13 \t>>>\t Gabriel    \t>>>\t 1.76\n14 \t>>>\t Rochi    \t>>>\t 1.6\n15 \t>>>\t Jose Maria    \t>>>\t 1.75\n"
    }
   ],
   "source": [
    "# Corresponde al ejercicio 02.17\n",
    "\n",
    "def alt2(lista):\n",
    "    pos=0\n",
    "    tamano_lista = len(lista)\n",
    "    while pos < tamano_lista:\n",
    "        print(\"%02d\" % pos,\"\\t>>>\\t\",lista[pos][0],\"   \\t>>>\\t\", lista[pos][3])\n",
    "        pos+=1\n",
    "\n",
    "alt2(lista=lista_alumnos)"
   ]
  },
  {
   "cell_type": "code",
   "execution_count": 55,
   "metadata": {
    "tags": []
   },
   "outputs": [
    {
     "output_type": "stream",
     "name": "stdout",
     "text": "[0, 2, 4, 6, 8, 10, 12, 14, 16, 18, 20, 22, 24, 26, 28, 30, 32, 34, 36]\n8\n815\nFalse\n[0, 2, 4, 6, 8, 10, 12, 14, 16, 18, 20, 22, 24, 26, 28, 30, 32, 34, 36, False]\n"
    }
   ],
   "source": [
    "# Corresponde al ejercicio 02.22\n",
    "\n",
    "def mas_num2(arg1):\n",
    "    x=0\n",
    "    if len(arg1)%2==0:\n",
    "        while len(arg1)>0:\n",
    "            arg1.pop()\n",
    "            print(arg1)\n",
    "            x+=1\n",
    "    else:\n",
    "        arg1.append(f_s(lista_informacion))\n",
    "        print(arg1)\n",
    "\n",
    "\n",
    "mas_num2(numeros_pares(19))"
   ]
  },
  {
   "cell_type": "code",
   "execution_count": null,
   "metadata": {},
   "outputs": [],
   "source": []
  },
  {
   "cell_type": "markdown",
   "metadata": {},
   "source": [
    "3. Realizar el **ejercicio 5** con bucle `while` en vez de bucle `for`. "
   ]
  },
  {
   "cell_type": "code",
   "execution_count": 56,
   "metadata": {
    "tags": []
   },
   "outputs": [
    {
     "output_type": "stream",
     "name": "stdout",
     "text": "15\nRecoletos >>> 9\n"
    }
   ],
   "source": [
    "# 5.1\n",
    "def string_mayor_5b(lista):\n",
    "    elem=0\n",
    "    tamano=len(lista)\n",
    "    while elem<=tamano:\n",
    "        elem_str=str(lista[elem])\n",
    "        if len(elem_str) > 5:\n",
    "            print(elem_str,\">>>\",len(elem_str))\n",
    "            break\n",
    "        else:\n",
    "            print(elem_str)\n",
    "            elem+=1\n",
    "\n",
    "string_mayor_5b(lista_informacion)"
   ]
  },
  {
   "cell_type": "code",
   "execution_count": 57,
   "metadata": {},
   "outputs": [
    {
     "output_type": "execute_result",
     "data": {
      "text/plain": "[0, 1, 2, 3, 4, 5, 6, 7, 8, 9, 10, 11, 12, 13, 14, 15, 16, 17, 18]"
     },
     "metadata": {},
     "execution_count": 57
    }
   ],
   "source": [
    "# 5.2\n",
    "def lista_consecutivosb(limite):\n",
    "    num=0\n",
    "    list_num=[]\n",
    "    while num<=limite:\n",
    "        list_num.append(num)\n",
    "        num+=1\n",
    "    return(list_num)\n",
    "\n",
    "\n",
    "lista_consecutivosb(18)"
   ]
  },
  {
   "cell_type": "code",
   "execution_count": 58,
   "metadata": {
    "tags": []
   },
   "outputs": [
    {
     "output_type": "stream",
     "name": "stdout",
     "text": "15\n"
    }
   ],
   "source": [
    "def posicion_15b(funcion_lista_consecutivosb,lista):\n",
    "\n",
    "    limite=len(lista)*2\n",
    "    numeros=funcion_lista_consecutivosb(limite)\n",
    "    print(numeros[15])\n",
    "\n",
    "\n",
    "posicion_15b(funcion_lista_consecutivosb=lista_consecutivosb, lista=lista_informacion)"
   ]
  },
  {
   "cell_type": "markdown",
   "metadata": {},
   "source": [
    "4. Realizar una función que realice la [serie de Fibonacci](https://quantdare.com/numeros-de-fibonacci/#:~:text=En%20matem%C3%A1ticas%2C%20la%20sucesi%C3%B3n%20o,nombre%20de%20n%C3%BAmero%20de%20Fibonacci.) con un `while`."
   ]
  },
  {
   "cell_type": "code",
   "execution_count": 59,
   "metadata": {
    "tags": []
   },
   "outputs": [
    {
     "output_type": "stream",
     "name": "stdout",
     "text": "[0, 1, 1, 2, 3, 5, 8, 13, 21, 34, 55, 89, 144, 233, 377]\n"
    }
   ],
   "source": [
    "def fibonacci():\n",
    "    num=int(input(\"Dime la cantidad de números Fibonacci que quieres saber: \"))\n",
    "    a=0\n",
    "    b=1\n",
    "    fibo=[]\n",
    "    fibo.append(a)\n",
    "    fibo.append(b)\n",
    "    while len(fibo)<num:\n",
    "        h=a+b\n",
    "        a=b\n",
    "        b=h\n",
    "        fibo.append(h)\n",
    "    print(fibo)\n",
    "fibonacci()"
   ]
  },
  {
   "cell_type": "markdown",
   "metadata": {},
   "source": [
    "## Ejercicio 7. "
   ]
  },
  {
   "cell_type": "markdown",
   "metadata": {},
   "source": [
    "**Importación de módulos.**"
   ]
  },
  {
   "cell_type": "markdown",
   "metadata": {},
   "source": [
    "Un módulo representa un fichero de extensión `.py` que contiene código python. Importando un módulo, podemos acceder a todas las variables, funciones y clases no privadas que contiene. \n",
    "\n",
    "En la propia carpeta del día de hoy, hay un fichero llamado `nombre_modulo.py`. Vamos a importarlo y usar alguna de sus variables y funciones. "
   ]
  },
  {
   "cell_type": "markdown",
   "metadata": {},
   "source": [
    "Al igual que con los demás objetos, una vez que se ha importado el módulo no hace falta importarlo más veces. "
   ]
  },
  {
   "cell_type": "code",
   "execution_count": 60,
   "metadata": {},
   "outputs": [],
   "source": [
    "import nombre_modulo as nmod\n"
   ]
  },
  {
   "cell_type": "code",
   "execution_count": 61,
   "metadata": {
    "tags": []
   },
   "outputs": [
    {
     "output_type": "stream",
     "name": "stdout",
     "text": "hola\nadiós\n"
    }
   ],
   "source": [
    "nmod.hola_y_adios()"
   ]
  },
  {
   "cell_type": "markdown",
   "metadata": {},
   "source": [
    "## Ejercicio 8. "
   ]
  },
  {
   "cell_type": "markdown",
   "metadata": {},
   "source": [
    "**Nivel pro.**"
   ]
  },
  {
   "cell_type": "markdown",
   "metadata": {},
   "source": [
    "Para cada uno de los siguientes puntos crear un archivo `.py` que se ejecutará a través de la terminal. Estando en la carpeta que contiene el `.py`correspondiente, se ejecutará con el siguiente comando: `python3 nombre_del_programa.py`"
   ]
  },
  {
   "cell_type": "markdown",
   "metadata": {},
   "source": [
    "1. Programa **una calculadora** que pregunte por pantalla dos números y dos operadores. Se debe realizar primero una operación y luego otra. Trata de definir el mayor número de funciones posibles. "
   ]
  },
  {
   "cell_type": "code",
   "execution_count": 62,
   "metadata": {
    "tags": []
   },
   "outputs": [
    {
     "output_type": "stream",
     "name": "stdout",
     "text": "\n\n --- CALCULADORA ---\n\n\nÉstas son las operaciones que puedes realizar:\n\n\n+\t>>>\tSUMA\n-\t>>>\tRESTA\n*\t>>>\tMULTIPLICACIÓN\n/\t>>>\tDIVISIÓN\n//\t>>>\tDIVISIÓN ENTERA\n**\t>>>\tPOTENCIA\n%\t>>>\tRESTO\n\n\n\n\nEl resultado de 6.0 + 7.0 es:  13.0 .\n\n\n\nEl resultado de 6.0 - 7.0 es:  -1.0 .\n\nHastaluegomaricarmen\n"
    }
   ],
   "source": [
    "\n",
    "def menu_calculadora():\n",
    "    print(\"\\n\\n --- CALCULADORA ---\\n\\n\")\n",
    "    print(\"Éstas son las operaciones que puedes realizar:\\n\\n\")\n",
    "    print(\"+\\t>>>\\tSUMA\")\n",
    "    print(\"-\\t>>>\\tRESTA\")\n",
    "    print(\"*\\t>>>\\tMULTIPLICACIÓN\")\n",
    "    print(\"/\\t>>>\\tDIVISIÓN\")\n",
    "    print(\"//\\t>>>\\tDIVISIÓN ENTERA\")\n",
    "    print(\"**\\t>>>\\tPOTENCIA\")\n",
    "    print(\"%\\t>>>\\tRESTO\\n\\n\")\n",
    "    \n",
    "    num1=(input(\"Dime un número: \"))\n",
    "    if num1.isnumeric():\n",
    "        num1=float(num1)\n",
    "    else:\n",
    "        print(\"\\n\\nESO NO ERA UN NÚMERO. PRUEBA OTRA VEZ.\\n\\n\")\n",
    "        menu_calculadora()\n",
    "\n",
    "    num2=(input(\"\\nDime otro número: \"))\n",
    "    if num2.isnumeric():\n",
    "        num2=float(num2)\n",
    "    else:\n",
    "        print(\"\\n\\nESO NO ERA UN NÚMERO. PRUEBA OTRA VEZ.\\n\\n\")\n",
    "        menu_calculadora()\n",
    "\n",
    "    operadores=(\"+\",\"-\",\"*\",\"/\",\"//\",\"**\",\"%\")\n",
    "\n",
    "    operador=(input(\"\\nIntroduce el primer operador (+ - * / // ** %): \"))\n",
    "    \n",
    "    resultado=()\n",
    "\n",
    "    if operador not in operadores:\n",
    "        print(\"\\n\\nDebes introducir un operador válido (+ - * / // ** %). PRUEBA OTRA VEZ.\")\n",
    "        menu_calculadora()\n",
    "\n",
    "    else:\n",
    "        if operador==\"+\":\n",
    "            resultado=num1+num2\n",
    "        elif operador==\"-\":\n",
    "            resultado=num1-num2\n",
    "        elif operador==\"*\":\n",
    "            resultado=num1*num2\n",
    "        elif operador==\"/\":\n",
    "            resultado=num1/num2\n",
    "        elif operador==\"//\":\n",
    "            resultado=num1//num2\n",
    "        elif operador==\"**\":\n",
    "            resultado=num1**num2\n",
    "        elif operador==\"%\":\n",
    "            resultado=num1%num2\n",
    "        \n",
    "    print(\"\\n\\nEl resultado de\", num1,operador,num2,\"es: \",resultado,\".\\n\")\n",
    "    \n",
    "    operador2=(input(\"\\nAhora introduce otro operador (+ - * / // ** %): \"))\n",
    "\n",
    "    if operador2 not in operadores:\n",
    "        print(\"\\n\\nDebes introducir un operador válido (+ - * / // ** %). PRUEBA OTRA VEZ.\")\n",
    "        menu_calculadora()\n",
    "    else:\n",
    "        if operador2==\"+\":\n",
    "            resultado2=num1+num2\n",
    "        elif operador2==\"-\":\n",
    "            resultado2=num1-num2\n",
    "        elif operador2==\"*\":\n",
    "            resultado2=num1*num2\n",
    "        elif operador==\"/\":\n",
    "            resultado2=num1/num2\n",
    "        elif operador2==\"//\":\n",
    "            resultado2=num1//num\n",
    "        elif operador2==\"**\":\n",
    "            resultado2=num1**num\n",
    "        elif operador2==\"%\":\n",
    "            resultado2=num1%num2\n",
    "\n",
    "    print(\"\\n\\nEl resultado de\", num1,operador2,num2,\"es: \",resultado2,\".\\n\")\n",
    "\n",
    "    rep=input(\"\\nSi quieres repetir la experiencia escribe OK: \").upper()\n",
    "    if rep==\"OK\":\n",
    "        menu_calculadora()\n",
    "    else:\n",
    "        print(\"Hastaluegomaricarmen\")\n",
    "        return\n",
    "        \n",
    "\n",
    "menu_calculadora()"
   ]
  },
  {
   "cell_type": "code",
   "execution_count": 2,
   "metadata": {},
   "outputs": [
    {
     "output_type": "error",
     "ename": "SyntaxError",
     "evalue": "invalid syntax (<ipython-input-2-6f48d650ab92>, line 1)",
     "traceback": [
      "\u001b[1;36m  File \u001b[1;32m\"<ipython-input-2-6f48d650ab92>\"\u001b[1;36m, line \u001b[1;32m1\u001b[0m\n\u001b[1;33m    operadores=(\"+\",-,*,/,//,**,%)\u001b[0m\n\u001b[1;37m                     ^\u001b[0m\n\u001b[1;31mSyntaxError\u001b[0m\u001b[1;31m:\u001b[0m invalid syntax\n"
     ]
    }
   ],
   "source": []
  },
  {
   "cell_type": "code",
   "execution_count": 63,
   "metadata": {},
   "outputs": [
    {
     "output_type": "error",
     "ename": "SyntaxError",
     "evalue": "invalid syntax (<ipython-input-63-9f0767f921a8>, line 1)",
     "traceback": [
      "\u001b[1;36m  File \u001b[1;32m\"<ipython-input-63-9f0767f921a8>\"\u001b[1;36m, line \u001b[1;32m1\u001b[0m\n\u001b[1;33m    operadores=[+,-,*,/,//,**,%]\u001b[0m\n\u001b[1;37m                 ^\u001b[0m\n\u001b[1;31mSyntaxError\u001b[0m\u001b[1;31m:\u001b[0m invalid syntax\n"
     ]
    }
   ],
   "source": [
    "operadores=[+,-,*,/,//,**,%]"
   ]
  },
  {
   "cell_type": "markdown",
   "metadata": {},
   "source": [
    "2. Programa, definiendo funciones, el juego **piedra, papel o tijera**. "
   ]
  },
  {
   "cell_type": "markdown",
   "metadata": {},
   "source": [
    "# Ver: rock_paper_scissors.ipynb"
   ]
  },
  {
   "cell_type": "markdown",
   "metadata": {},
   "source": [
    "3. Haz un programa que, a partir de las strings `\"|\"` y `\"_\"`, muestre por pantalla un **tablero de ajedrez** 8x8. "
   ]
  },
  {
   "cell_type": "code",
   "execution_count": 64,
   "metadata": {},
   "outputs": [],
   "source": [
    "#your code here"
   ]
  },
  {
   "cell_type": "markdown",
   "metadata": {},
   "source": [
    "4. Haz un programa utilizando `while` que genere una **baraja de cartas** de 4 palos distintos. La baraja ha de tener 40 cartas. "
   ]
  },
  {
   "cell_type": "code",
   "execution_count": 65,
   "metadata": {},
   "outputs": [],
   "source": [
    "#your code here"
   ]
  },
  {
   "cell_type": "markdown",
   "metadata": {},
   "source": [
    "## Si has llegado hasta aquí, you are a **champion**"
   ]
  },
  {
   "cell_type": "markdown",
   "metadata": {},
   "source": [
    "![yay](https://media.giphy.com/media/l522kgooW2Qo9xtK5Z/giphy.gif)"
   ]
  },
  {
   "cell_type": "code",
   "execution_count": null,
   "metadata": {},
   "outputs": [],
   "source": []
  }
 ],
 "metadata": {
  "file_extension": ".py",
  "kernelspec": {
   "display_name": "Python 3",
   "language": "python",
   "name": "python3"
  },
  "language_info": {
   "codemirror_mode": {
    "name": "ipython",
    "version": 3
   },
   "file_extension": ".py",
   "mimetype": "text/x-python",
   "name": "python",
   "nbconvert_exporter": "python",
   "pygments_lexer": "ipython3",
   "version": "3.8.3-final"
  },
  "mimetype": "text/x-python",
  "name": "python",
  "npconvert_exporter": "python",
  "pygments_lexer": "ipython3",
  "version": 3
 },
 "nbformat": 4,
 "nbformat_minor": 4
}