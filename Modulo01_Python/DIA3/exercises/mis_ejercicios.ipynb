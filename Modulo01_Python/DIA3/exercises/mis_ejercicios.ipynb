{
 "cells": [
  {
   "cell_type": "code",
   "execution_count": 1,
   "metadata": {
    "tags": []
   },
   "outputs": [
    {
     "output_type": "stream",
     "name": "stdout",
     "text": "Hola Mundo\n"
    }
   ],
   "source": [
    "print(\"¡Hola Mundo!\") "
   ]
  },
  {
   "cell_type": "code",
   "execution_count": null,
   "metadata": {},
   "outputs": [],
   "source": [
    "x=\"¡Hola Mundo!\"\n",
    "print(x)"
   ]
  },
  {
   "cell_type": "code",
   "execution_count": 15,
   "metadata": {
    "tags": []
   },
   "outputs": [
    {
     "output_type": "stream",
     "name": "stdout",
     "text": "¡Hola Cris!\n"
    }
   ],
   "source": [
    "x=input(\"¿Cuál es tu nombre? \")\n",
    "print(\"¡Hola\",x+\"!\")"
   ]
  },
  {
   "cell_type": "code",
   "execution_count": 8,
   "metadata": {
    "tags": []
   },
   "outputs": [
    {
     "output_type": "stream",
     "name": "stdout",
     "text": "Cris\nCris\nCris\nCris\nCris\nCris\nCris\n\n"
    }
   ],
   "source": [
    "name=input(\"¿Cuál es tu nombre? \")\n",
    "num=int(input(\"Dime un número: \"))\n",
    "repeat=num*(name + \"\\n\")\n",
    "print(repeat)"
   ]
  },
  {
   "cell_type": "code",
   "execution_count": 14,
   "metadata": {
    "tags": []
   },
   "outputs": [
    {
     "output_type": "stream",
     "name": "stdout",
     "text": "CRISTINA  tiene 8 letras.\n"
    }
   ],
   "source": [
    "name=input(\"¿Cuál es tu nombre? \")\n",
    "n=len(name)\n",
    "print(name.upper(),\"tiene\", n, \"letras.\")"
   ]
  },
  {
   "cell_type": "code",
   "execution_count": 12,
   "metadata": {
    "tags": []
   },
   "outputs": [
    {
     "output_type": "stream",
     "name": "stdout",
     "text": "0.25\n"
    }
   ],
   "source": [
    "operation=((3+2)/(2*5))**2\n",
    "print(operation)"
   ]
  },
  {
   "cell_type": "code",
   "execution_count": 18,
   "metadata": {
    "tags": []
   },
   "outputs": [
    {
     "output_type": "stream",
     "name": "stdout",
     "text": "Corresponde un importe de 1200.0 euros.\n"
    }
   ],
   "source": [
    "hour=float(input(\"Introducir horas trabajadas: \"))\n",
    "cost=float(input(\"Introducir el coste por hora: \"))\n",
    "amount=(hour*cost)\n",
    "print(\"Corresponde un importe de\", amount, \"euros.\")"
   ]
  },
  {
   "cell_type": "code",
   "execution_count": 28,
   "metadata": {
    "tags": []
   },
   "outputs": [
    {
     "output_type": "stream",
     "name": "stdout",
     "text": "10.0\n"
    }
   ],
   "source": [
    "n=abs(int(input(\"Introduce un número: \")))\n",
    "suma=(n*(n+1))/2\n",
    "print(suma)"
   ]
  },
  {
   "cell_type": "code",
   "execution_count": 36,
   "metadata": {
    "tags": []
   },
   "outputs": [
    {
     "output_type": "stream",
     "name": "stdout",
     "text": "20.28\n"
    }
   ],
   "source": [
    "weight=float(input(\"Introducir peso en kilogramos: \"))\n",
    "height=float(input(\"Introducir estatura en metros: \"))\n",
    "imc=round(weight/(height**2),2)\n",
    "print(imc)\n"
   ]
  },
  {
   "cell_type": "code",
   "execution_count": 42,
   "metadata": {
    "tags": []
   },
   "outputs": [
    {
     "output_type": "stream",
     "name": "stdout",
     "text": "20 entre 3 da un cociente 6 y un resto 2 .\n"
    }
   ],
   "source": [
    "n=int(input(\"Introduce un número entero: \"))\n",
    "m=int(input(\"Introduce otro número entero: \"))\n",
    "quot=n//m\n",
    "module=n%m\n",
    "print(n,\"entre\",m,\"da un cociente\",quot,\"y un resto\",module,\".\")"
   ]
  },
  {
   "cell_type": "code",
   "execution_count": 57,
   "metadata": {
    "tags": []
   },
   "outputs": [
    {
     "output_type": "stream",
     "name": "stdout",
     "text": "1610.51\n"
    }
   ],
   "source": [
    "amount=float(input(\"Introduce la cantidad a invertir: \"))\n",
    "interest=float(input(\"Introduce el interés anual: \"))\n",
    "years=float(input(\"Introduce el número de años: \"))\n",
    "profit=round(amount*((interest/100+1)**years),2)\n",
    "print(profit)"
   ]
  },
  {
   "cell_type": "code",
   "execution_count": 59,
   "metadata": {
    "tags": []
   },
   "outputs": [
    {
     "output_type": "stream",
     "name": "stdout",
     "text": "El peso total del paquete será de 1.87 kg.\n"
    }
   ],
   "source": [
    "clowns=int(input(\"Número de payasos: \"))\n",
    "dolls=int(input(\"Número de muñecas: \"))\n",
    "weight=float(clowns*112+dolls*75)/1000\n",
    "print(\"El peso total del paquete será de\",round(weight,2),\"kg.\")"
   ]
  },
  {
   "cell_type": "code",
   "execution_count": 65,
   "metadata": {
    "tags": []
   },
   "outputs": [
    {
     "output_type": "stream",
     "name": "stdout",
     "text": "Los ahorros tras el primer año serían de 1040.0 euros. Los ahorros tras el segundo año serían de 1081.6 euros. Y los ahorros tras el tercer año serían de 1124.86 euros.\n"
    }
   ],
   "source": [
    "deposit=float(input(\"Cantidad depositada en la cuenta: \"))\n",
    "capital1=deposit*1.04\n",
    "capital2=capital1*1.04\n",
    "capital3=capital2*1.04\n",
    "#capital2=round(float(capital1)*1.04),2)\n",
    "#capital3=round(float(capital2)*1.04),2\n",
    "print(\"Los ahorros tras el primer año serían de\",round(capital1,2),\"euros. Los ahorros tras el segundo año serían de\",round(capital2,2),\"euros. Y los ahorros tras el tercer año serían de\",round(capital3,2),\"euros.\")\n"
   ]
  },
  {
   "cell_type": "code",
   "execution_count": 70,
   "metadata": {
    "tags": []
   },
   "outputs": [
    {
     "output_type": "stream",
     "name": "stdout",
     "text": "El coste de una barra fresca es  3.49 €\nEl descuento sobre una barra no fresca es  60.0 %\nEl coste final a pagar es  1396.0 €\n"
    }
   ],
   "source": [
    "bread=int(input(\"Introduce el número de barras vendidas que no son frescas: \"))\n",
    "price=3.49 \n",
    "discount=0.6\n",
    "cost=bread*price*(1-discount)\n",
    "print(\"El coste de una barra fresca es \",price,\"€\")\n",
    "print(\"El descuento sobre una barra no fresca es \",discount*100,\"%\")\n",
    "print(\"El coste final a pagar es \",round(cost, 2),\"€\")"
   ]
  },
  {
   "cell_type": "code",
   "execution_count": null,
   "metadata": {},
   "outputs": [],
   "source": []
  }
 ],
 "metadata": {
  "language_info": {
   "codemirror_mode": {
    "name": "ipython",
    "version": 3
   },
   "file_extension": ".py",
   "mimetype": "text/x-python",
   "name": "python",
   "nbconvert_exporter": "python",
   "pygments_lexer": "ipython3",
   "version": "3.7.6-final"
  },
  "orig_nbformat": 2,
  "kernelspec": {
   "name": "python3",
   "display_name": "Python 3"
  }
 },
 "nbformat": 4,
 "nbformat_minor": 2
}