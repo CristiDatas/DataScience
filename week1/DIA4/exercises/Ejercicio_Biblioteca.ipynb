{
 "cells": [
  {
   "cell_type": "markdown",
   "metadata": {},
   "source": [
    "# Ejercicio La Biblioteca | Precurso DSJUN20 | The Bridge"
   ]
  },
  {
   "cell_type": "markdown",
   "metadata": {},
   "source": [
    "![biblioteca](https://static2.abc.es/media/familia/2018/11/02/AdobeStock_210538561-kJTF--620x349@abc.jpg)"
   ]
  },
  {
   "cell_type": "markdown",
   "metadata": {},
   "source": [
    "Es tu primer día de trabajo en la Biblioteca de tu barrio y ya tienes tu primera tarea. Te acaban de pasar una lista con libros y la lista de unidades disponibles."
   ]
  },
  {
   "cell_type": "code",
   "execution_count": 4,
   "metadata": {},
   "outputs": [],
   "source": [
    "libros = [\"El mal de Corcira\", \"Un mundo feliz\", \"Lolita\", \"Crimen y castigo\", \"Python from for to pro\",\\\n",
    "          \"El señor de los anillos\", \"Cien años de soledad\", \"Harry Potter\", \"Lectura Fácil\", \"Seda\",\\\n",
    "          \"La chica de nieve\", \"El día que se perdió la cordura\", \"Data Science\"]"
   ]
  },
  {
   "cell_type": "code",
   "execution_count": 2,
   "metadata": {},
   "outputs": [],
   "source": [
    "biblioteca = [(\"El mal de Corcira\",4),(\"Un mundo feliz\", 2),(\"Lolita\", 5),\\\n",
    "              (\"Crimen y castigo\",2),(\"Python from for to pro\", 0),(\"El señor de los anillos\", 6),\\\n",
    "              (\"Cien años de soledad\", 5),(\"Harry Potter\", 9),(\"Lectura Fácil\", 4),(\"Seda\", 2),\\\n",
    "              (\"La chica de nieve\", 6),(\"El día que se perdió la cordura\", 3), (\"Data Science\", 0)]"
   ]
  },
  {
   "cell_type": "markdown",
   "metadata": {},
   "source": [
    "1. ¿Cuántos títulos diferentes tienen en esta biblioteca?"
   ]
  },
  {
   "cell_type": "code",
   "execution_count": 6,
   "metadata": {
    "tags": []
   },
   "outputs": [
    {
     "output_type": "stream",
     "name": "stdout",
     "text": "Tienen 13 títulos diferentes.\n"
    }
   ],
   "source": [
    "print(\"Tienen\",(len(libros)),\"títulos diferentes.\")"
   ]
  },
  {
   "cell_type": "markdown",
   "metadata": {},
   "source": [
    "2. ¿Cuántas letras componen la palabra *Seda*? "
   ]
  },
  {
   "cell_type": "code",
   "execution_count": 7,
   "metadata": {
    "tags": []
   },
   "outputs": [
    {
     "output_type": "stream",
     "name": "stdout",
     "text": "'Seda' está compuesta de 4 letras.\n"
    }
   ],
   "source": [
    "print(\"'Seda' está compuesta de\",(len(\"Seda\")),\"letras.\")"
   ]
  },
  {
   "cell_type": "markdown",
   "metadata": {},
   "source": [
    "3. ¿Cuántas unidades hay del libro *Seda*?"
   ]
  },
  {
   "cell_type": "code",
   "execution_count": 8,
   "metadata": {
    "tags": []
   },
   "outputs": [
    {
     "output_type": "stream",
     "name": "stdout",
     "text": "Hay 2 unidades.\n"
    }
   ],
   "source": [
    "print(\"Hay\",biblioteca[9][1],\"unidades.\")"
   ]
  },
  {
   "cell_type": "markdown",
   "metadata": {},
   "source": [
    "4. Quien registraba los libros antes de ti dejo pendiente de añadir a la lista **libros** la variable **pendiente**, además debió confundir el famoso libro de George Orwell *1984*, con un número, asignándolo como un integer.\n",
    "¿Puedes cambiarlo y pasar a string este elemento y añadirlo a **libros**?"
   ]
  },
  {
   "cell_type": "code",
   "execution_count": 9,
   "metadata": {},
   "outputs": [],
   "source": [
    "pendiente = 1984"
   ]
  },
  {
   "cell_type": "code",
   "execution_count": 10,
   "metadata": {
    "tags": []
   },
   "outputs": [
    {
     "output_type": "stream",
     "name": "stdout",
     "text": "['El mal de Corcira', 'Un mundo feliz', 'Lolita', 'Crimen y castigo', 'Python from for to pro', 'El señor de los anillos', 'Cien años de soledad', 'Harry Potter', 'Lectura Fácil', 'Seda', 'La chica de nieve', 'El día que se perdió la cordura', 'Data Science', '1984']\n"
    },
    {
     "output_type": "execute_result",
     "data": {
      "text/plain": "str"
     },
     "metadata": {},
     "execution_count": 10
    }
   ],
   "source": [
    "pendiente=str(pendiente)\n",
    "# libros.append(pendiente)\n",
    "print(libros)\n",
    "type(libros[-1])"
   ]
  },
  {
   "cell_type": "markdown",
   "metadata": {},
   "source": [
    "5. Te piden que añadas a esta lista el nuevo libro de Los Juegos del hambre que se titula *Balada de pájaros cantores y serpientes*. Has contado las unidades y han llegado 10. \n",
    "\n",
    "    a. Crea una variable con el título del libro, que se llame **libro_1**. Añade este elemento a la lista **libros**.\n",
    "\n",
    "    b. Crea una variable con el número de unidades, que se llame **uds_1**.\n",
    "\n",
    "    c. Crea una variable que sea una lista llamada **nuevo_libro** en el que su primer elemento sea **libro_1** y el segundo **uds_1**. \n",
    "\n",
    "    d. Convierte a **nuevo_libro** a tupla.\n",
    "    (muestra qué tipo es ahora esta variable)\n",
    "\n",
    "    e. Añade **nuevo_libro** a la lista **biblioteca** "
   ]
  },
  {
   "cell_type": "code",
   "execution_count": 11,
   "metadata": {
    "tags": []
   },
   "outputs": [
    {
     "output_type": "stream",
     "name": "stdout",
     "text": "['El mal de Corcira', 'Un mundo feliz', 'Lolita', 'Crimen y castigo', 'Python from for to pro', 'El señor de los anillos', 'Cien años de soledad', 'Harry Potter', 'Lectura Fácil', 'Seda', 'La chica de nieve', 'El día que se perdió la cordura', 'Data Science', '1984', 'Balada de pájaros cantores y serpientes']\n<class 'tuple'>\n[('El mal de Corcira', 4), ('Un mundo feliz', 2), ('Lolita', 5), ('Crimen y castigo', 2), ('Python from for to pro', 0), ('El señor de los anillos', 6), ('Cien años de soledad', 5), ('Harry Potter', 9), ('Lectura Fácil', 4), ('Seda', 2), ('La chica de nieve', 6), ('El día que se perdió la cordura', 3), ('Data Science', 0), ('Balada de pájaros cantores y serpientes', 10)]\n"
    }
   ],
   "source": [
    "libro_1=\"Balada de pájaros cantores y serpientes\"\n",
    "#libros.append(libro_1)\n",
    "print(libros)\n",
    "\n",
    "uds_1=10\n",
    "nuevo_libro=[libro_1,uds_1]\n",
    "nuevo_libro=tuple(nuevo_libro)\n",
    "print(type(nuevo_libro))\n",
    "#biblioteca.append(nuevo_libro)\n",
    "print(biblioteca)\n"
   ]
  },
  {
   "cell_type": "markdown",
   "metadata": {},
   "source": [
    "6. Acaban de traer una unidad más de *El mal de Corcira*, añade una unidad más al segundo elemento del primer elemento de la lista **biblioteca**."
   ]
  },
  {
   "cell_type": "code",
   "execution_count": 12,
   "metadata": {},
   "outputs": [
    {
     "output_type": "execute_result",
     "data": {
      "text/plain": "('El mal de Corcira', 4)"
     },
     "metadata": {},
     "execution_count": 12
    }
   ],
   "source": [
    "biblioteca[0]"
   ]
  },
  {
   "cell_type": "code",
   "execution_count": 10,
   "metadata": {},
   "outputs": [
    {
     "output_type": "execute_result",
     "data": {
      "text/plain": "4"
     },
     "metadata": {},
     "execution_count": 10
    }
   ],
   "source": [
    "biblioteca[0][1]"
   ]
  },
  {
   "cell_type": "code",
   "execution_count": 11,
   "metadata": {},
   "outputs": [
    {
     "output_type": "error",
     "ename": "TypeError",
     "evalue": "'tuple' object does not support item assignment",
     "traceback": [
      "\u001b[1;31m---------------------------------------------------------------------------\u001b[0m",
      "\u001b[1;31mTypeError\u001b[0m                                 Traceback (most recent call last)",
      "\u001b[1;32m<ipython-input-11-8a7bcc0d7ddc>\u001b[0m in \u001b[0;36m<module>\u001b[1;34m\u001b[0m\n\u001b[1;32m----> 1\u001b[1;33m \u001b[0mbiblioteca\u001b[0m\u001b[1;33m[\u001b[0m\u001b[1;36m0\u001b[0m\u001b[1;33m]\u001b[0m\u001b[1;33m[\u001b[0m\u001b[1;36m1\u001b[0m\u001b[1;33m]\u001b[0m \u001b[1;33m=\u001b[0m \u001b[0mbiblioteca\u001b[0m\u001b[1;33m[\u001b[0m\u001b[1;36m0\u001b[0m\u001b[1;33m]\u001b[0m\u001b[1;33m[\u001b[0m\u001b[1;36m1\u001b[0m\u001b[1;33m]\u001b[0m \u001b[1;33m-\u001b[0m \u001b[1;36m1\u001b[0m\u001b[1;33m\u001b[0m\u001b[1;33m\u001b[0m\u001b[0m\n\u001b[0m",
      "\u001b[1;31mTypeError\u001b[0m: 'tuple' object does not support item assignment"
     ]
    }
   ],
   "source": [
    "biblioteca[0][1] = biblioteca[0][1] - 1"
   ]
  },
  {
   "cell_type": "markdown",
   "metadata": {},
   "source": [
    "Busca en google este error y explica porqué no se puede añadir una unidad más. ¿Se te ocurre cómo podrías alterar este dato?"
   ]
  },
  {
   "cell_type": "markdown",
   "metadata": {},
   "source": [
    "Los elementos de la lista biblioteca son tuplas y no se pueden modificar, para hacerlo hay que extraer la tupla, convertirla en una lista, modificarla, volver a convertirla en tupla e insertarla de nuevo."
   ]
  },
  {
   "cell_type": "markdown",
   "metadata": {},
   "source": [
    "Convierte la tupla en una lista para poder modificar el segundo elemento y añadir esta unidad. Asigna la tupla convertida a lista a la variable **tup_to_list** haz los cambios, agrega la unidad y vuelve a añadir la lista ya convertida en tupla a la lista **biblioteca**."
   ]
  },
  {
   "cell_type": "code",
   "execution_count": 15,
   "metadata": {
    "tags": []
   },
   "outputs": [
    {
     "output_type": "stream",
     "name": "stdout",
     "text": "('El mal de Corcira', 4)\n['El mal de Corcira', 4]\n['El mal de Corcira', 5]\n('El mal de Corcira', 5)\n"
    }
   ],
   "source": [
    "tup=biblioteca[0]\n",
    "tup_to_list=list(tup)\n",
    "print(tup)\n",
    "print(tup_to_list)\n",
    "tup_to_list[1]=5\n",
    "print(tup_to_list)\n",
    "tup=tuple(tup_to_list)\n",
    "biblioteca[0]=tup\n",
    "print(biblioteca[0])"
   ]
  },
  {
   "cell_type": "markdown",
   "metadata": {},
   "source": [
    "Ahora, tenemos dos tuplas con el libro *El mal de Corcira*, pero esto no es lo que queremos. Elimina el primer elemento de la lista **biblioteca**.\n",
    "\n",
    "Hint: https://www.programiz.com/python-programming/methods/list/remove"
   ]
  },
  {
   "cell_type": "code",
   "execution_count": 16,
   "metadata": {
    "tags": []
   },
   "outputs": [
    {
     "output_type": "stream",
     "name": "stdout",
     "text": "[('El mal de Corcira', 5), ('Un mundo feliz', 2), ('Lolita', 5), ('Crimen y castigo', 2), ('Python from for to pro', 0), ('El señor de los anillos', 6), ('Cien años de soledad', 5), ('Harry Potter', 9), ('Lectura Fácil', 4), ('Seda', 2), ('La chica de nieve', 6), ('El día que se perdió la cordura', 3), ('Data Science', 0), ('Balada de pájaros cantores y serpientes', 10)]\n"
    }
   ],
   "source": [
    "print(biblioteca)"
   ]
  },
  {
   "cell_type": "markdown",
   "metadata": {},
   "source": [
    "7. Te han pedido que localices los títulos de los libros de los que no disponen de unidades. Es decir, su segundo elemento, es igual a 0. "
   ]
  },
  {
   "cell_type": "code",
   "execution_count": 3,
   "metadata": {
    "tags": []
   },
   "outputs": [
    {
     "output_type": "stream",
     "name": "stdout",
     "text": "('Python from for to pro', 0)\n('Data Science', 0)\n"
    }
   ],
   "source": [
    "\"\"\"\n",
    "PRIMERO ME COMPLIQUÉ LA VIDA CON EL \"IN RANGE\":\n",
    "\n",
    "for x in range (len(biblioteca)):\n",
    "    if biblioteca[x][1]==0:\n",
    "        print(biblioteca[x][0],biblioteca[x][1])\n",
    "\n",
    "LUEGO VI QUE ERA MÁS SENCILLO Y QUE YA LO HABÍAMOS VISTO EN CLASE:\n",
    "\"\"\"\n",
    "\n",
    "for z in biblioteca:\n",
    "    if z[1]==0:\n",
    "        print(z)\n",
    "        "
   ]
  },
  {
   "cell_type": "markdown",
   "metadata": {},
   "source": [
    "Bonus:\n",
    "¿Cómo meterías estos dos elementos en una lista llamada **missing**?"
   ]
  },
  {
   "cell_type": "code",
   "execution_count": 4,
   "metadata": {
    "tags": []
   },
   "outputs": [
    {
     "output_type": "stream",
     "name": "stdout",
     "text": "('Python from for to pro', 0)\n('Data Science', 0)\n[('Python from for to pro', 0), ('Data Science', 0)]\n"
    }
   ],
   "source": [
    "missing=[]\n",
    "\n",
    "for z in biblioteca:\n",
    "    if z[1]==0:\n",
    "        print(z)\n",
    "        missing.append(z)\n",
    "        \n",
    "print(missing)\n",
    "\n"
   ]
  },
  {
   "cell_type": "code",
   "execution_count": null,
   "metadata": {},
   "outputs": [],
   "source": []
  }
 ],
 "metadata": {
  "kernelspec": {
   "display_name": "Python 3",
   "language": "python",
   "name": "python3"
  },
  "language_info": {
   "codemirror_mode": {
    "name": "ipython",
    "version": 3
   },
   "file_extension": ".py",
   "mimetype": "text/x-python",
   "name": "python",
   "nbconvert_exporter": "python",
   "pygments_lexer": "ipython3",
   "version": "3.7.6-final"
  }
 },
 "nbformat": 4,
 "nbformat_minor": 4
}