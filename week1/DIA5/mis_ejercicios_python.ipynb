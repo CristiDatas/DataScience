{
 "cells": [
  {
   "cell_type": "markdown",
   "metadata": {},
   "source": [
    "# EJERCICIOS DE PYTHON\n",
    "## TIPOS DE DATOS SIMPLES"
   ]
  },
  {
   "cell_type": "code",
   "execution_count": 1,
   "metadata": {
    "tags": []
   },
   "outputs": [
    {
     "output_type": "stream",
     "name": "stdout",
     "text": "¡Hola Mundo!\n"
    }
   ],
   "source": [
    "#1\n",
    "print(\"¡Hola Mundo!\") "
   ]
  },
  {
   "cell_type": "code",
   "execution_count": 2,
   "metadata": {
    "tags": []
   },
   "outputs": [
    {
     "output_type": "stream",
     "name": "stdout",
     "text": "¡Hola Mundo!\n"
    }
   ],
   "source": [
    "#2\n",
    "x=\"¡Hola Mundo!\"\n",
    "print(x)"
   ]
  },
  {
   "cell_type": "code",
   "execution_count": 3,
   "metadata": {
    "tags": []
   },
   "outputs": [
    {
     "output_type": "stream",
     "name": "stdout",
     "text": "¡Hola Cris!\n"
    }
   ],
   "source": [
    "#3\n",
    "x=input(\"¿Cuál es tu nombre? \")\n",
    "print(\"¡Hola\",x+\"!\")"
   ]
  },
  {
   "cell_type": "code",
   "execution_count": 4,
   "metadata": {
    "tags": []
   },
   "outputs": [
    {
     "output_type": "stream",
     "name": "stdout",
     "text": "Cristina\nCristina\nCristina\nCristina\nCristina\nCristina\nCristina\n\n"
    }
   ],
   "source": [
    "#4\n",
    "name=input(\"¿Cuál es tu nombre? \")\n",
    "num=int(input(\"Dime un número: \"))\n",
    "repeat=num*(name + \"\\n\")\n",
    "print(repeat)"
   ]
  },
  {
   "cell_type": "code",
   "execution_count": 5,
   "metadata": {
    "tags": []
   },
   "outputs": [
    {
     "output_type": "stream",
     "name": "stdout",
     "text": "CRISTINA tiene 8 letras.\n"
    }
   ],
   "source": [
    "#5\n",
    "name=input(\"¿Cuál es tu nombre? \")\n",
    "n=len(name)\n",
    "print(name.upper(),\"tiene\", n, \"letras.\")"
   ]
  },
  {
   "cell_type": "code",
   "execution_count": 6,
   "metadata": {
    "tags": []
   },
   "outputs": [
    {
     "output_type": "stream",
     "name": "stdout",
     "text": "0.25\n"
    }
   ],
   "source": [
    "#6\n",
    "operation=((3+2)/(2*5))**2\n",
    "print(operation)"
   ]
  },
  {
   "cell_type": "code",
   "execution_count": 7,
   "metadata": {
    "tags": []
   },
   "outputs": [
    {
     "output_type": "stream",
     "name": "stdout",
     "text": "Corresponde un importe de 2000.0 euros.\n"
    }
   ],
   "source": [
    "#7\n",
    "hour=float(input(\"Introducir horas trabajadas: \"))\n",
    "cost=float(input(\"Introducir el coste por hora: \"))\n",
    "amount=(hour*cost)\n",
    "print(\"Corresponde un importe de\", amount, \"euros.\")"
   ]
  },
  {
   "cell_type": "code",
   "execution_count": 8,
   "metadata": {
    "tags": []
   },
   "outputs": [
    {
     "output_type": "stream",
     "name": "stdout",
     "text": "351.0\n"
    }
   ],
   "source": [
    "#8\n",
    "n=abs(int(input(\"Introduce un número: \")))\n",
    "suma=(n*(n+1))/2\n",
    "print(suma)"
   ]
  },
  {
   "cell_type": "code",
   "execution_count": 15,
   "metadata": {
    "tags": []
   },
   "outputs": [
    {
     "output_type": "stream",
     "name": "stdout",
     "text": "17.96\n"
    }
   ],
   "source": [
    "#9\n",
    "weight=float(input(\"Introducir peso en kilogramos: \"))\n",
    "height=float(input(\"Introducir estatura en metros: \"))\n",
    "imc=round(weight/(height**2),2)\n",
    "print(imc)\n"
   ]
  },
  {
   "cell_type": "code",
   "execution_count": 10,
   "metadata": {
    "tags": []
   },
   "outputs": [
    {
     "output_type": "stream",
     "name": "stdout",
     "text": "9 entre 44 da un cociente 0 y un resto 9 .\n"
    }
   ],
   "source": [
    "#10\n",
    "n=int(input(\"Introduce un número entero: \"))\n",
    "m=int(input(\"Introduce otro número entero: \"))\n",
    "quot=n//m\n",
    "module=n%m\n",
    "print(n,\"entre\",m,\"da un cociente\",quot,\"y un resto\",module,\".\")"
   ]
  },
  {
   "cell_type": "code",
   "execution_count": 11,
   "metadata": {
    "tags": []
   },
   "outputs": [
    {
     "output_type": "stream",
     "name": "stdout",
     "text": "1811.36\n"
    }
   ],
   "source": [
    "#11\n",
    "amount=float(input(\"Introduce la cantidad a invertir: \"))\n",
    "interest=float(input(\"Introduce el interés anual: \"))\n",
    "years=float(input(\"Introduce el número de años: \"))\n",
    "profit=round(amount*((interest/100+1)**years),2)\n",
    "print(profit)"
   ]
  },
  {
   "cell_type": "code",
   "execution_count": 28,
   "metadata": {
    "tags": []
   },
   "outputs": [
    {
     "output_type": "stream",
     "name": "stdout",
     "text": "El peso total del paquete será de 71.84 kg.\n"
    }
   ],
   "source": [
    "#12\n",
    "clowns=int(input(\"Número de payasos: \"))\n",
    "dolls=int(input(\"Número de muñecas: \"))\n",
    "weight=float(clowns*112+dolls*75)/1000\n",
    "print(\"El peso total del paquete será de\",round(weight,2),\"kg.\")"
   ]
  },
  {
   "cell_type": "code",
   "execution_count": 22,
   "metadata": {
    "tags": []
   },
   "outputs": [
    {
     "output_type": "stream",
     "name": "stdout",
     "text": "Los ahorros tras el primer año serían de 382720.0 euros. Los ahorros tras el segundo año serían de 398028.8 euros. Y los ahorros tras el tercer año serían de 413949.95 euros.\n"
    }
   ],
   "source": [
    "#13\n",
    "deposit=float(input(\"Cantidad depositada en la cuenta: \"))\n",
    "capital1=deposit*1.04\n",
    "capital2=capital1*1.04\n",
    "capital3=capital2*1.04\n",
    "#capital2=round(float(capital1)*1.04),2)\n",
    "#capital3=round(float(capital2)*1.04),2)\n",
    "print(\"Los ahorros tras el primer año serían de\",round(capital1,2),\"euros. Los ahorros tras el segundo año serían de\",round(capital2,2),\"euros. Y los ahorros tras el tercer año serían de\",round(capital3,2),\"euros.\")\n"
   ]
  },
  {
   "cell_type": "code",
   "execution_count": 14,
   "metadata": {
    "tags": []
   },
   "outputs": [
    {
     "output_type": "stream",
     "name": "stdout",
     "text": "El coste de una barra fresca es  3.49 €\nEl descuento sobre una barra no fresca es  60.0 %\nEl coste final a pagar es  78400.76 €\n"
    }
   ],
   "source": [
    "#14\n",
    "bread=int(input(\"Introduce el número de barras vendidas que no son frescas: \"))\n",
    "price=3.49 \n",
    "discount=0.6\n",
    "cost=bread*price*(1-discount)\n",
    "print(\"El coste de una barra fresca es \",price,\"€\")\n",
    "print(\"El descuento sobre una barra no fresca es \",discount*100,\"%\")\n",
    "print(\"El coste final a pagar es \",round(cost, 2),\"€\")"
   ]
  },
  {
   "cell_type": "markdown",
   "metadata": {},
   "source": [
    "## CONDICIONALES"
   ]
  },
  {
   "cell_type": "code",
   "execution_count": 51,
   "metadata": {
    "tags": []
   },
   "outputs": [
    {
     "output_type": "stream",
     "name": "stdout",
     "text": "Eres mayor de edad\n"
    }
   ],
   "source": [
    "#1\n",
    "age=int(input(\"Introduce tu edad: \"))\n",
    "\n",
    "if age>=18:\n",
    "    print(\"Eres mayor de edad\")\n",
    "else:\n",
    "    print(\"No eres mayor de edad\")"
   ]
  },
  {
   "cell_type": "code",
   "execution_count": 105,
   "metadata": {
    "tags": []
   },
   "outputs": [
    {
     "output_type": "stream",
     "name": "stdout",
     "text": "La contraseña introducida es correcta.\n"
    }
   ],
   "source": [
    "#2\n",
    "password=\"contraseña\"\n",
    "password2=(input(\"Introduce la contraseña: \")).lower()\n",
    "\n",
    "if password2 == password:\n",
    "    print(\"La contraseña introducida es correcta.\")\n",
    "else:\n",
    "    print(\"La contraseña introducida es incorrecta.\")\n"
   ]
  },
  {
   "cell_type": "code",
   "execution_count": 63,
   "metadata": {
    "tags": []
   },
   "outputs": [
    {
     "output_type": "stream",
     "name": "stdout",
     "text": "ERROR: el divisor no puede ser cero.\n"
    }
   ],
   "source": [
    "#3\n",
    "num1=float(input(\"Introduce un número\"))\n",
    "num2=float(input(\"Introduce otro número\"))\n",
    "\n",
    "if num2==0:\n",
    "    print(\"ERROR: el divisor no puede ser cero.\")\n",
    "else:\n",
    "    division=num1/num2\n",
    "    print(num1,\"/\",num2,\"=\",division)"
   ]
  },
  {
   "cell_type": "code",
   "execution_count": 98,
   "metadata": {
    "tags": []
   },
   "outputs": [
    {
     "output_type": "stream",
     "name": "stdout",
     "text": "El numero 9 es impar.\n"
    }
   ],
   "source": [
    "#4\n",
    "integer=int(input(\"Introduce un número entero: \"))\n",
    "#print(integer%2)\n",
    "\n",
    "if (integer%2)==0:\n",
    "    print(\"El número\",integer,\"es par\")\n",
    "else:\n",
    "    print(\"El numero\",integer,\"es impar.\")"
   ]
  },
  {
   "cell_type": "code",
   "execution_count": 102,
   "metadata": {
    "tags": []
   },
   "outputs": [
    {
     "output_type": "stream",
     "name": "stdout",
     "text": "Usted está obligado a tributar este impuesto.\n"
    }
   ],
   "source": [
    "#5\n",
    "tax_age=float(input(\"Introduzca su edad: \"))\n",
    "income=float(input(\"Introduzca sus ingresos mensuales: \"))\n",
    "\n",
    "if tax_age<16 or income<1000:\n",
    "    print(\"Usted no está obligado a tributar este impuesto.\")\n",
    "else:\n",
    "    print(\"Usted está obligado a tributar este impuesto.\")"
   ]
  },
  {
   "cell_type": "code",
   "execution_count": 21,
   "metadata": {
    "tags": []
   },
   "outputs": [
    {
     "output_type": "stream",
     "name": "stdout",
     "text": "HUJVBLHJVBJ\nM\nHUJVBLHJVBJ Tu grupo es  A\n"
    }
   ],
   "source": [
    "#6: FALLARÍA SI SE INTRODUCE CUALQUIER COSA DISTINTA DE \"M\" O \"H\" PARA SEXO.\n",
    "alumn_name=(input(\"Introduce tu nombre: \")).upper()\n",
    "sex=(input(\"Introduce tu sexo: M/H: \")).upper()\n",
    "\n",
    "if (sex==\"M\" and alumn_name<\"M\") or (sex==\"H\" and alumn_name>\"N\"):\n",
    "    group=\"A\"\n",
    "else:\n",
    "    group=\"B\"\n",
    "\n",
    "print(alumn_name, \"Tu grupo es \",group)\n"
   ]
  },
  {
   "cell_type": "code",
   "execution_count": 24,
   "metadata": {
    "tags": []
   },
   "outputs": [
    {
     "output_type": "stream",
     "name": "stdout",
     "text": "Le corresponde un tipo impositivo de 45%\n"
    }
   ],
   "source": [
    "#7\n",
    "anual=float(input(\"Introduzca su renta anual: \"))\n",
    "\n",
    "if anual<10000:\n",
    "    print(\"Le corresponde un tipo impositivo de 5%\")\n",
    "elif anual>=10000 and anual<20000:\n",
    "    print(\"Le corresponde un tipo impositivo de 15%\")\n",
    "elif anual>=20000 and anual<35000:\n",
    "    print(\"Le corresponde un tipo impositivo de 20%\")\n",
    "elif anual>=35000 and anual<=60000:\n",
    "    print(\"Le corresponde un tipo impositivo de 30%\")\n",
    "else:\n",
    "    print(\"Le corresponde un tipo impositivo de 45%\")"
   ]
  },
  {
   "cell_type": "code",
   "execution_count": 35,
   "metadata": {
    "tags": []
   },
   "outputs": [
    {
     "output_type": "stream",
     "name": "stdout",
     "text": "No ha introducido un nivel de rendimiento correcto.\n"
    }
   ],
   "source": [
    "#8\n",
    "score=float(input(\"Introduzca su puntuación: 0.0, 0.4 o más de 0.6 >>> \"))\n",
    "\n",
    "if score==0.0:\n",
    "    print(\"Su nivel de rendimiento es: INACEPTABLE. Le corresponden\",0.0*2.400,\"euros extra.\")\n",
    "elif score==0.4:\n",
    "    print(\"Su nivel de rendimiento es: ACEPTABLE. Le corresponden\",0.4*2400,\"euros extra.\")\n",
    "elif score>=0.6:\n",
    "    print(\"Su nivel de rendimiento es: MERITORIO. Le corresponden\",score*2400,\"euros extra.\")\n",
    "else:\n",
    "    print(\"No ha introducido un nivel de rendimiento correcto.\")"
   ]
  },
  {
   "cell_type": "code",
   "execution_count": 36,
   "metadata": {
    "tags": []
   },
   "outputs": [
    {
     "output_type": "stream",
     "name": "stdout",
     "text": "El precio de tu entrada es: 5€.\n"
    }
   ],
   "source": [
    "#9\n",
    "player=int(input(\"Introduce tu edad: \"))\n",
    "if player<4:\n",
    "    print(\"Puedes entrar gratis.\")\n",
    "elif player>=4 and player<18:\n",
    "    print(\"El precio de tu entrada es: 5€.\")\n",
    "else:\n",
    "    print(\"El precio de tu entrada es: 10€.\")"
   ]
  },
  {
   "cell_type": "code",
   "execution_count": 42,
   "metadata": {
    "tags": []
   },
   "outputs": [
    {
     "output_type": "error",
     "ename": "TypeError",
     "evalue": "raw_input() takes from 1 to 2 positional arguments but 3 were given",
     "traceback": [
      "\u001b[1;31m---------------------------------------------------------------------------\u001b[0m",
      "\u001b[1;31mTypeError\u001b[0m                                 Traceback (most recent call last)",
      "\u001b[1;32m<ipython-input-42-30ddbb9d539b>\u001b[0m in \u001b[0;36m<module>\u001b[1;34m\u001b[0m\n\u001b[0;32m      6\u001b[0m \u001b[1;33m\u001b[0m\u001b[0m\n\u001b[0;32m      7\u001b[0m \u001b[1;32mif\u001b[0m \u001b[0mvegg\u001b[0m\u001b[1;33m==\u001b[0m\u001b[1;34m\"S\"\u001b[0m\u001b[1;33m:\u001b[0m\u001b[1;33m\u001b[0m\u001b[1;33m\u001b[0m\u001b[0m\n\u001b[1;32m----> 8\u001b[1;33m     \u001b[0minput\u001b[0m\u001b[1;33m(\u001b[0m\u001b[1;34m\"Elije uno de estos ingredientes: \"\u001b[0m\u001b[1;33m,\u001b[0m\u001b[0mvegg_ingr\u001b[0m\u001b[1;33m)\u001b[0m\u001b[1;33m\u001b[0m\u001b[1;33m\u001b[0m\u001b[0m\n\u001b[0m\u001b[0;32m      9\u001b[0m \u001b[1;33m\u001b[0m\u001b[0m\n\u001b[0;32m     10\u001b[0m \u001b[1;33m\u001b[0m\u001b[0m\n",
      "\u001b[1;31mTypeError\u001b[0m: raw_input() takes from 1 to 2 positional arguments but 3 were given"
     ]
    }
   ],
   "source": [
    "#10 >>> EN ELLO\n",
    "vegg_ingr=[\"Pimiento\",\"Tofu\"]\n",
    "ingr=[\"Peperoni\",\"Jamón\",\"Salmón\"]\n",
    "\n",
    "vegg=(input(\"¿Quieres que tu pizza sea vegetariana? S/N: \")).upper()\n",
    "\n",
    "if vegg==\"S\":\n",
    "    print(\"Elije uno de estos ingredientes: \",vegg_ingr)\n",
    "    input\n",
    "\n",
    "\n",
    "\n",
    "\n",
    "\n"
   ]
  },
  {
   "cell_type": "code",
   "execution_count": null,
   "metadata": {},
   "outputs": [],
   "source": []
  }
 ],
 "metadata": {
  "language_info": {
   "codemirror_mode": {
    "name": "ipython",
    "version": 3
   },
   "file_extension": ".py",
   "mimetype": "text/x-python",
   "name": "python",
   "nbconvert_exporter": "python",
   "pygments_lexer": "ipython3",
   "version": "3.7.6-final"
  },
  "orig_nbformat": 2,
  "kernelspec": {
   "name": "python3",
   "display_name": "Python 3"
  }
 },
 "nbformat": 4,
 "nbformat_minor": 2
}