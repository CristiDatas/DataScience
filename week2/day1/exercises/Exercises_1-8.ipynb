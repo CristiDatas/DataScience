{
 "cells": [
  {
   "cell_type": "markdown",
   "metadata": {},
   "source": [
    "## Ejercicios:\n",
    "\n",
    "### Apartado 1:\n",
    "\n",
    "1. Crea una variable llamada 'numero_bridge' que tenga como valor 15. Tipo entero.\n",
    "2. Crea una variable llamada 'nombre_calle' que sea un string y sea 'Recoletos'\n",
    "3. Crea una variable llamada 'gusto_personal' que sea True si eres más de playa y False si eres más de montaña.\n",
    "4. Crea una variable llamada 'nada' de la siguiente forma: 'nada = None'. None no representa ningún valor. Ha de tenerse en cuenta que si se hace 'if (nada):', 'nada' actúa como un valor booleano False. Para más información, observar el primer ejemplo de abajo.\n",
    "5. Crea una variable que llamada 'lista_direccion' que sea una lista y que contenga 2 valores. El primer valor debe ser la variable 'numero_bridge' y el segundo valor de la lista debe ser la variable 'nombre_calle'\n",
    "6. Crea una variable llamada 'horas_sueno' que almacene, en forma de String, las horas que has dormido hoy. Ejemplo: horas_sueno = \"8\" \n",
    "6. Crea una lista llamada 'lista_informacion' que tenga cada una de las variables creadas anteriormente en el orden en el que se han expuesto en el ejercicio.\n",
    "\n",
    "IMPORTANTE: A partir de este momento y para todos estos ejercicios, solo se van a utilizar los datos almacenados en 'lista_informacion'. Debe contener 6 elementos. "
   ]
  },
  {
   "cell_type": "markdown",
   "metadata": {},
   "source": [
    "### Creación de variables del apartado 1.\n",
    "\n",
    "gusto_personal = True  # Si te gusta más la montaña\n",
    "\n",
    "gusto_personal = False  # Si te gusta más la playa"
   ]
  },
  {
   "cell_type": "code",
   "execution_count": 2,
   "metadata": {},
   "outputs": [],
   "source": [
    "### Escribe aquí tu código para el apartado 1. Cuando acabes, ejecuta la celda para que las variables se queden en la memoria. \n",
    "numero_bridge=15\n",
    "nombre_calle=\"Recoletos\"\n",
    "gusto_personal=False\n",
    "nada=None\n",
    "lista_direccion=[numero_bridge,nombre_calle]\n",
    "horas_sueno=\"8\"\n",
    "lista_informacion=[numero_bridge,nombre_calle,gusto_personal,nada,lista_direccion,horas_sueno]\n"
   ]
  },
  {
   "cell_type": "markdown",
   "metadata": {},
   "source": [
    "#### Borrar variables. Del\n",
    "Ejecuta esta celda de jupyter para borrar todas las variables que has tenido que crear antes. El contenido de 'lista_informacion' no cambiará. De esta forma, nos aseguraremos de que solo uses la información de 'lista_informacion'. "
   ]
  },
  {
   "cell_type": "code",
   "execution_count": 3,
   "metadata": {},
   "outputs": [],
   "source": [
    "# Ejecuta esta celda cuando las variables del apartado 1 ya han sido creadas y guardadas en memoria.\n",
    "del numero_bridge\n",
    "del nombre_calle\n",
    "del gusto_personal \n",
    "del nada\n",
    "del lista_direccion\n",
    "del horas_sueno"
   ]
  },
  {
   "cell_type": "code",
   "execution_count": 4,
   "metadata": {
    "tags": []
   },
   "outputs": [
    {
     "output_type": "stream",
     "name": "stdout",
     "text": "[15, 'Recoletos', False, None, [15, 'Recoletos'], '8']\n"
    }
   ],
   "source": [
    "print(lista_informacion)"
   ]
  },
  {
   "cell_type": "markdown",
   "metadata": {},
   "source": [
    "### Apartado 2\n",
    "\n",
    "### Ejercicios con 'lista_informacion'. Recuerda no usar las variables excepto 'lista_informacion'. Leer cada punto hasta el final antes de hacer la tarea. \n",
    "\n",
    "1. Mostrar por pantalla, sin uso de funciones ni bucles: \n",
    "    - La concatenación del número de The Bridge, dos puntos y el nombre de la calle. \n",
    "    - La suma del número de The Bridge y las horas que has dormido hoy. \n",
    "    - La concatenación del número de The Bridge, el nombre de la calle, tu gusto personal y las horas de sueño. Cada uno debe estar separado por lo siguiente: \" : \".\n",
    "    - Accediendo a la lista de la quinta posición de 'lista_informacion' muestra por pantalla la suma de lo siguiente (si la quinta posición de tu 'lista_informacion' no es una lista, pregunta a los profesores):\n",
    "        - La concatenación de los dos elementos. \n",
    "        - La multiplicación del tamaño de la lista de la quinta posición de 'lista_informacion' y el tamaño del número de caracteres que tiene el nombre de la calle.\n",
    "\n",
    "2. Dentro de funciones con el nombre que decidáis, con un argumento de entrada llamado 'lista' siendo este la 'lista_informacion' cuando se invoque a la función. Cuando sea 'recorre' se refiere a bucle 'for'. Cada punto representa una función y celda de Jupyter diferente:\n",
    "\n",
    "    - Mostrar por pantalla \"Me gusta la tranquilidad\" si te gusta más la montaña y \"Me gusta ver las carnes al aire libre\" si te gusta más la playa.\n",
    "    - Mostrar por pantalla \"Hoy estoy cansado\" si has dormido menos de 7 horas y \"Hoy me como el mundo\" si has dormido más de 7 horas. \n",
    "    - Recorrer 'lista' para mostrar todos los elementos que contiene. \n",
    "    - Recorrer 'lista' para mostrar todos los elementos que contiene concatenado con el string \"--> OK\"\n",
    "    - Recorrer 'lista' para mostrar todos los elementos que contiene excepto el primero\n",
    "    - Recorrer 'lista' para mostrar todos los elementos que contiene excepto el último. \n",
    "    - Recorrer 'lista' para mostrar todos los elementos que contiene excepto el número de la calle y las horas que has dormido.\n",
    "    - Recorrer 'lista' para mostrar todos los elementos que contiene excepto el primer elemento de la lista de la quinta posición. \n",
    "    - Recorrer 'lista' para mostrar todos los elementos que contiene excepto el que contiene la información sobre si os gusta la montaña o playa SI os gusta la montaña.\n",
    "    - Recorrer 'lista' para mostrar el último elemento.\n",
    "    - Crear una variable llamada 'zona' y darle el valor de None. Recorrer 'lista' y actualizar 'zona' a True si y solo si has dormido más de 7 horas, te gusta la playa y la suma de las horas que has dormido más el número de The Bridge es menor a 24. Para cualquier otro caso, 'zona' será False. Retornar el valor de 'zona'. Esta función se llamará 'funcion_zona'.\n",
    "    - Dentro de una función llamada 'funcion_comprobacion' que recibe solo un parámetro llamado 'valor_zona' que será el valor que devuelve la función 'funcion_zona' cuando sea invocado, mostrar el valor de 'valor_zona' si es True.\n",
    "\n",
    "3. Dentro de funciones con el nombre que queráis:\n",
    "    - Utilizar la función enumerate del bucle for utilizando la lista de alturas y la lista de alumnos creada en días anteriores (las listas han de estar ordenadas) para: \n",
    "        - Mostrar la altura acompañado del nombre del alumno al que pertenece. \n",
    "\n",
    "4. Hacer un programa que pregunte si le gusta la montaña al usuario y, si es que no, llame a la función funcion_zona. \n",
    "\n",
    "5. Hacer una función que guarde en una variable el valor de 'nada' y lo devuelva por pantalla. Concatenar su valor con el número de the bridge y mostrarlo por pantalla. Ahora, mostrar por pantalla un booleano True si el tamaño de la palabra concatenada es 6. Sino, será False. La función debe retornar el valor True o False. El nombre de la función será 'f_s'.\n",
    "\n",
    "6. Crear una lista 'lista_aux' con 7 elementos (los que queráis). Crear una función 'funcion_usa_f_s' que reciba por parámetros dos argumento 'f_s' y 'lista'.  Si el valor de 'f_s' es True, entonces borrar el un elemento de 'lista'. Si 'lista' tiene algún elemento, entonces repetir el proceso hasta que no tenga elementos. La entrada 'lista' ha de ser 'lista_aux' y 'f_s' será la función 'f_s' del punto anterior.\n",
    "\n",
    "7. Crear una función 'numeros_pares' que tenga un parámetro de entrada 'arg1' (Entero). La función debe mostrar por pantalla y retornar una lista de números de tamaño 'arg1' siendo números pares.\n",
    "\n",
    "8. Crear una función que tenga una variable de entrada 'arg1' (que será la lista de números pares del apartado anterior) y que elimine elementos de la lista (uno a uno) si 'arg1' tiene un tamaño divisible entre 2 y, si no lo tiene, añada, solo una vez, el valor de la función 'f_s'."
   ]
  },
  {
   "cell_type": "code",
   "execution_count": 16,
   "metadata": {
    "tags": []
   },
   "outputs": [
    {
     "output_type": "stream",
     "name": "stdout",
     "text": "15 : Recoletos\n23\n15  :  Recoletos  :  False  :  8\n15Recoletos\n18\n"
    }
   ],
   "source": [
    "# 1. Apartado \n",
    "\n",
    "#La concatenación del número de The Bridge, dos puntos y el nombre de la calle.\n",
    "\n",
    "print(lista_informacion[0],\":\",lista_informacion[1])\n",
    "\n",
    "#La suma del número de The Bridge y las horas que has dormido hoy.\n",
    "\n",
    "print(lista_informacion[0]+int(lista_informacion[5]))\n",
    "\n",
    "#La concatenación del número de The Bridge, el nombre de la calle, tu gusto personal y las horas de sueño. Cada uno debe estar separado por lo siguiente: \" : \"\n",
    "\n",
    "print(lista_informacion[0],\" : \",lista_informacion[1],\" : \",lista_informacion[2],\" : \",lista_informacion[5])\n",
    "\n",
    "#Accediendo a la lista de la quinta posición de 'lista_informacion' muestra por pantalla la suma de lo siguiente (si la quinta posición de tu 'lista_informacion' no es una lista, pregunta a los profesores):\n",
    "\n",
    "#La concatenación de los dos elementos.\n",
    "\n",
    "print(str(lista_informacion[4][0])+lista_informacion[4][1])\n",
    "\n",
    "#La multiplicación del tamaño de la lista de la quinta posición de 'lista_informacion' y el tamaño del número de caracteres que tiene el nombre de la calle.\n",
    "\n",
    "print((len(lista_informacion[4]))*(len(lista_informacion[1])))"
   ]
  },
  {
   "cell_type": "code",
   "execution_count": null,
   "metadata": {},
   "outputs": [],
   "source": [
    "#Dentro de funciones con el nombre que decidáis, con un argumento de entrada llamado 'lista' siendo este la 'lista_informacion' cuando se invoque a la función. Cuando sea 'recorre' se refiere a bucle 'for'. Cada punto representa una función y celda de Jupyter diferente:\n"
   ]
  },
  {
   "cell_type": "code",
   "execution_count": 51,
   "metadata": {
    "tags": []
   },
   "outputs": [
    {
     "output_type": "stream",
     "name": "stdout",
     "text": "Me gusta ver las carnes al aire libre\n"
    }
   ],
   "source": [
    "#Mostrar por pantalla \"Me gusta la tranquilidad\" si te gusta más la montaña y \"Me gusta ver las carnes al aire libre\" si te gusta más la playa.\n",
    "\n",
    "def gusto(lista=lista_informacion):\n",
    "    if lista[2]:\n",
    "        print(\"Me gusta la tranquilidad\")\n",
    "    else:\n",
    "        print(\"Me gusta ver las carnes al aire libre\")\n",
    "\n",
    "gusto()"
   ]
  },
  {
   "cell_type": "code",
   "execution_count": 40,
   "metadata": {
    "tags": []
   },
   "outputs": [
    {
     "output_type": "stream",
     "name": "stdout",
     "text": "Hoy me como el mundo\n"
    }
   ],
   "source": [
    "#Mostrar por pantalla \"Hoy estoy cansado\" si has dormido menos de 7 horas y \"Hoy me como el mundo\" si has dormido más de 7 horas.\n",
    "\n",
    "def sueno(lista=int(lista_informacion[5])):\n",
    "    if lista<7:\n",
    "        print(\"Hoy estoy cansado\")\n",
    "    else:\n",
    "        print(\"Hoy me como el mundo\")\n",
    "\n",
    "sueno()\n"
   ]
  },
  {
   "cell_type": "code",
   "execution_count": 41,
   "metadata": {
    "tags": []
   },
   "outputs": [
    {
     "output_type": "stream",
     "name": "stdout",
     "text": "15\nRecoletos\nFalse\nNone\n[15, 'Recoletos']\n8\n"
    }
   ],
   "source": [
    "#Recorrer 'lista' para mostrar todos los elementos que contiene.\n",
    "\n",
    "def mostrar(lista=lista_informacion):\n",
    "    for elem in lista:\n",
    "        print(elem)\n",
    "\n",
    "mostrar()\n"
   ]
  },
  {
   "cell_type": "code",
   "execution_count": 36,
   "metadata": {
    "tags": []
   },
   "outputs": [
    {
     "output_type": "stream",
     "name": "stdout",
     "text": "15 --> OK\nRecoletos --> OK\nFalse --> OK\nNone --> OK\n[15, 'Recoletos'] --> OK\n8 --> OK\n"
    }
   ],
   "source": [
    "#Recorrer 'lista' para mostrar todos los elementos que contiene concatenado con el string \"--> OK\"\n",
    "\n",
    "def ok(lista=lista_informacion):\n",
    "    for elem in lista:\n",
    "        print(elem,\"--> OK\")\n",
    "\n",
    "ok()       \n"
   ]
  },
  {
   "cell_type": "code",
   "execution_count": null,
   "metadata": {},
   "outputs": [],
   "source": [
    "funcion_concatenar_en_lista(lista=lista_informacion)"
   ]
  },
  {
   "cell_type": "code",
   "execution_count": 49,
   "metadata": {
    "tags": []
   },
   "outputs": [
    {
     "output_type": "stream",
     "name": "stdout",
     "text": "Recoletos\nFalse\nNone\n[15, 'Recoletos']\n8\n"
    }
   ],
   "source": [
    "#Recorrer 'lista' para mostrar todos los elementos que contiene excepto el primero.\n",
    "\n",
    "def primer_no(lista=lista_informacion):\n",
    "    for elem in lista[1:]:\n",
    "       print(elem)\n",
    "\n",
    "primer_no()"
   ]
  },
  {
   "cell_type": "code",
   "execution_count": 48,
   "metadata": {
    "tags": []
   },
   "outputs": [
    {
     "output_type": "stream",
     "name": "stdout",
     "text": "15\nRecoletos\nFalse\nNone\n[15, 'Recoletos']\n"
    }
   ],
   "source": [
    "#Recorrer 'lista' para mostrar todos los elementos que contiene excepto el último.\n",
    "\n",
    "def ulti_no(lista=lista_informacion):\n",
    "    for elem in lista[:-1]:\n",
    "       print(elem)\n",
    "\n",
    "ulti_no()\n"
   ]
  },
  {
   "cell_type": "code",
   "execution_count": 54,
   "metadata": {
    "tags": []
   },
   "outputs": [
    {
     "output_type": "stream",
     "name": "stdout",
     "text": "Recoletos\nFalse\nNone\n[15, 'Recoletos']\n"
    }
   ],
   "source": [
    "#Recorrer 'lista' para mostrar todos los elementos que contiene excepto el número de la calle y las horas que has dormido.\n",
    "\n",
    "def medio(lista=lista_informacion):\n",
    "    for elem in lista[1:-1]:\n",
    "       print(elem)\n",
    "\n",
    "medio()"
   ]
  },
  {
   "cell_type": "code",
   "execution_count": 15,
   "metadata": {
    "tags": []
   },
   "outputs": [
    {
     "output_type": "stream",
     "name": "stdout",
     "text": "[15, 'Recoletos', False, None, [15, 'Recoletos'], '8']\nRecoletos\nFalse\nNone\n[15, 'Recoletos']\n8\n"
    },
    {
     "output_type": "error",
     "ename": "NameError",
     "evalue": "name 'lista' is not defined",
     "traceback": [
      "\u001b[1;31m---------------------------------------------------------------------------\u001b[0m",
      "\u001b[1;31mNameError\u001b[0m                                 Traceback (most recent call last)",
      "\u001b[1;32m<ipython-input-15-70abe89fecdd>\u001b[0m in \u001b[0;36m<module>\u001b[1;34m\u001b[0m\n\u001b[0;32m     12\u001b[0m \u001b[1;33m\u001b[0m\u001b[0m\n\u001b[0;32m     13\u001b[0m \u001b[0mcount\u001b[0m \u001b[1;33m=\u001b[0m \u001b[1;36m1\u001b[0m\u001b[1;33m\u001b[0m\u001b[1;33m\u001b[0m\u001b[0m\n\u001b[1;32m---> 14\u001b[1;33m \u001b[1;32mfor\u001b[0m \u001b[0mgato\u001b[0m \u001b[1;32min\u001b[0m \u001b[0mlista\u001b[0m\u001b[1;33m:\u001b[0m\u001b[1;33m\u001b[0m\u001b[1;33m\u001b[0m\u001b[0m\n\u001b[0m\u001b[0;32m     15\u001b[0m     \u001b[1;32mif\u001b[0m \u001b[0mcount\u001b[0m \u001b[1;33m==\u001b[0m \u001b[1;36m2\u001b[0m\u001b[1;33m:\u001b[0m\u001b[1;33m\u001b[0m\u001b[1;33m\u001b[0m\u001b[0m\n\u001b[0;32m     16\u001b[0m         \u001b[0mprint\u001b[0m\u001b[1;33m(\u001b[0m\u001b[0mgato\u001b[0m\u001b[1;33m[\u001b[0m\u001b[1;36m5\u001b[0m\u001b[1;33m]\u001b[0m\u001b[1;33m)\u001b[0m\u001b[1;33m\u001b[0m\u001b[1;33m\u001b[0m\u001b[0m\n",
      "\u001b[1;31mNameError\u001b[0m: name 'lista' is not defined"
     ]
    }
   ],
   "source": [
    "#Recorrer 'lista' para mostrar todos los elementos que contiene excepto el primer elemento de la lista de la quinta posición.\n",
    "\n",
    "print(lista_informacion)\n",
    "\n",
    "def elemento(lista=lista_informacion):\n",
    "    for elem in lista:\n",
    "        if elem==lista[4][0]:\n",
    "            continue\n",
    "        print(elem)\n",
    "\n",
    "elemento() # Deja de mostrar el primer 15 en lugar del 15 de la lista. ¿Cómo diferenciar??\n",
    "\n",
    "count = 1\n",
    "for gato in lista:\n",
    "    if count == 2:\n",
    "        print(gato[5])\n",
    "    print(count)\n",
    "    count += 1\n"
   ]
  },
  {
   "cell_type": "code",
   "execution_count": 14,
   "metadata": {
    "tags": []
   },
   "outputs": [
    {
     "output_type": "stream",
     "name": "stdout",
     "text": "15\nRecoletos\nFalse\nNone\n[15, 'Recoletos']\n8\n"
    }
   ],
   "source": [
    "#Recorrer 'lista' para mostrar todos los elementos que contiene excepto el que contiene la información sobre si os gusta la montaña o playa SI os gusta la montaña.\n",
    "\n",
    "def elemento(lista=lista_informacion):\n",
    "    if lista[2]==True:\n",
    "        for elem in lista:\n",
    "            if elem==lista[2]:\n",
    "                continue\n",
    "            print(elem)\n",
    "    else:\n",
    "        for elem in lista:\n",
    "            print(elem)\n",
    "\n",
    "elemento()"
   ]
  },
  {
   "cell_type": "code",
   "execution_count": null,
   "metadata": {},
   "outputs": [],
   "source": [
    "#Recorrer 'lista' para mostrar el último elemento.\n"
   ]
  },
  {
   "cell_type": "code",
   "execution_count": null,
   "metadata": {},
   "outputs": [],
   "source": [
    "#Mostrar por pantalla \"Me gusta la tranquilidad\" si te gusta más la montaña y \"Me gusta ver las carnes al aire libre\" si te gusta más la playa.\n"
   ]
  },
  {
   "cell_type": "code",
   "execution_count": 1,
   "metadata": {},
   "outputs": [],
   "source": [
    "#Crear una variable llamada 'zona' y darle el valor de None. Recorrer 'lista' y actualizar 'zona' a True si y solo si has dormido más de 7 horas, te gusta la playa y la suma de las horas que has dormido más el número de The Bridge es menor a 24. Para cualquier otro caso, 'zona' será False. Retornar el valor de 'zona'. Esta función se llamará 'funcion_zona'.\n"
   ]
  },
  {
   "cell_type": "markdown",
   "metadata": {},
   "source": [
    "3. Dentro de funciones con el nombre que queráis:\n",
    "    - Utilizar la función enumerate del bucle for utilizando la lista de alturas y la lista de alumnos creada en días anteriores (las listas han de estar ordenadas) para: \n",
    "        - Mostrar la altura acompañado del nombre del alumno al que pertenece. "
   ]
  },
  {
   "cell_type": "code",
   "execution_count": 2,
   "metadata": {},
   "outputs": [],
   "source": [
    "# 4. Hacer un programa que pregunte si le gusta la montaña al usuario y, si es que no, llame a la función funcion_zona.\n"
   ]
  },
  {
   "cell_type": "code",
   "execution_count": 3,
   "metadata": {},
   "outputs": [],
   "source": [
    "#Hacer una función que guarde en una variable el valor de 'nada' y lo devuelva por pantalla. Concatenar su valor con el número de the bridge y mostrarlo por pantalla. Ahora, mostrar por pantalla un booleano True si el tamaño de la palabra concatenada es 6. Sino, será False. La función debe retornar el valor True o False. El nombre de la función será 'f_s'."
   ]
  },
  {
   "cell_type": "code",
   "execution_count": 4,
   "metadata": {},
   "outputs": [],
   "source": [
    "# Crear una lista 'lista_aux' con 7 elementos (los que queráis). Crear una función 'funcion_usa_f_s' que reciba por parámetros dos argumento 'f_s' y 'lista'. Si el valor de 'f_s' es True, entonces borrar el un elemento de 'lista'. Si 'lista' tiene algún elemento, entonces repetir el proceso hasta que no tenga elementos. La entrada 'lista' ha de ser 'lista_aux' y 'f_s' será la función 'f_s' del punto anterior.\n"
   ]
  },
  {
   "cell_type": "code",
   "execution_count": 5,
   "metadata": {},
   "outputs": [],
   "source": [
    "#Dentro de una función llamada 'funcion_comprobacion' que recibe solo un parámetro llamado 'valor_zona' que será el valor que devuelve la función 'funcion_zona' cuando sea invocado, mostrar el valor de 'valor_zona' si es True.\n"
   ]
  },
  {
   "cell_type": "markdown",
   "metadata": {},
   "source": [
    "### Apartado 3\n",
    "\n",
    "Para este apartado se utilizará la lista 'lista_información. A esa lista, ha de añadirse UTILIZANDO el método 'append':\n",
    "\n",
    "- Un booleano que sea True si utilizas gafas. False para lo contrario. \n",
    "- Un entero que represente tu edad. \n",
    "- Un float que represente el dinero que te has gastado en tu última compra.\n",
    "- Un string que represente el nombre de uno de tus tí@s. Si no tienes, el nombre de uno de tus herman@s. Si no tienes, alguno de tus abuel@s. Si no tienes, el nombre de tu mejor amigo. Y, si no tienes, el nombre de tu psicólog@.\n",
    "- Una lista que tenga como tamaño 5. Cada una de las posiciones debe representar los números que más te gusten en el rango [[0-100]] dividido entre 10. Es decir, si eliges el 11, el número sería el 1.1. Si eliges el 100, sería el 10.  \n",
    "\n",
    "Por último, han de eliminarse las variables 'none' y 'lista_direccion' de dos formas:\n",
    "\n",
    "- 'nada' con el método 'remove' de una lista. \n",
    "- 'lista_direccion' con el método 'pop' con el que se puede eliminar el elemento de una lista a través de una posición. Para más información, hemos puesto un ejemplo más abajo.\n",
    "\n",
    "\n"
   ]
  },
  {
   "cell_type": "markdown",
   "metadata": {},
   "source": [
    "### Apartado 4. Creación de funciones con return preparatorio. \n",
    "\n",
    "A partir de ahora solo se utilizará la 'lista_informacion' actualizada. La 'lista_informacion' debe contener 9 posiciones. Si no contiene 9, pregunta a los profesores.\n",
    "\n",
    "Crear una nueva celda por cada apartado: \n",
    "\n",
    "- Función 'nb' que reciba por parámetro 'lista' y que retorne el número de The Bridge.\n",
    "- Función 'nc' que reciba por parámetro 'lista' y que retorne el nombre de la calle de The Bridge.\n",
    "- Función 'gp' que reciba por parámetro 'lista' y que retorne tu gusto personal.\n",
    "- Función 'hs' que reciba por parámetro 'lista' y que retorne las horas de sueño.\n",
    "- Función 'ul' que reciba por parámetro 'lista' y que retorne la última posicón de 'lista'.\n",
    "\n",
    "A partir de este momento, si se requiere utilizar uno de estos valores, se accederá a ellos a partir de las funciones anteriormente creadas, no directamente desde la lista."
   ]
  },
  {
   "cell_type": "markdown",
   "metadata": {},
   "source": [
    "### Apartado 5. Break en bucles for.\n",
    "\n",
    "Crear una nueva celda por cada apartado: \n",
    "\n",
    "- Función 'string_mayor_5' que reciba por parámetro 'lista' ('lista_informacion'). Se debe recorrer 'lista' transformando cada elemento en string y, si el tamaño del string es mayor a 5, el bucle debe parar. La función ha de devolver el primer elemento con string mayor a 5.\n",
    "\n",
    "- Función 'lista_consecutivos' que recibe por parámetro 'limite'. Debe retornar una lista con números que empiece en el 0 y acabe en el número 'límite'. 'limite' será 18 cuando la función sea invocada. \n",
    "\n",
    "- Función 'posicion_15' que reciba un parámetro 'funcion_lista_consecutivos' y 'lista' y deberá devolver el elemento de la lista que devuelve la función 'lista_consecutivos' que represente la posicion 15. Es dentro de la función 'posicion_15' donde hay que llamar a 'funcion_lista_consecutivos' con el parámetro 'lista' como parámetro de entrada de 'lista_consecutivos'. El argumento 'límite' será 18 cuando 'lista_consecutivos' sea invocada.\n",
    "\n",
    "Ejemplo: \n",
    "x = posicion_15(funcion_lista_consecutivos=lista_consecutivos, lista=lista_informacion)"
   ]
  },
  {
   "cell_type": "markdown",
   "metadata": {},
   "source": [
    "### Apartado 6. Bucle while.\n",
    "\n",
    "Crear una nueva celda por cada apartado: \n",
    "\n",
    "- Crear una función reciba por parámetro 'lista' que muestre todos los elementos que tiene usando un bucle while. Llamar a la función con 'lista_informacion'.\n",
    "- Realizar todos los apartados del apartado 2.2 cuyo enunciado aparece la palabra 'recorrer' excepto el que se utiliza la 'lista_direccion' borrada en el apartado 3. \n",
    "- Realizar el apartado 5 con bucle while en vez de bucle for. \n",
    "- Realizar una función que realice la función de fibonacci con un while.\n",
    "\n",
    "\n",
    "\n"
   ]
  },
  {
   "cell_type": "markdown",
   "metadata": {},
   "source": [
    "### Apartado 7. Importación de módulos.\n",
    "\n",
    "Un módulo representa un fichero de extensión '.py' que contiene código python. Importando un módulo, podemos acceder a todas las variable, funciones y clases no privadas que contiene. \n",
    "\n",
    "En la propia carpeta del día de hoy, hay un fichero llamado 'nombre_modulo.py'. Vamos a importarlo y usar alguna de sus variables y funciones. "
   ]
  },
  {
   "cell_type": "markdown",
   "metadata": {},
   "source": [
    "Al igual que con los demás objetos, una vez que se ha importado el módulo no hace falta importarlo más veces. "
   ]
  },
  {
   "cell_type": "markdown",
   "metadata": {},
   "source": [
    "# Apartado 8: Ejercicios\n",
    "\n",
    "- Programa una calculadora que pregunte por pantalla dos números y dos operadores. Se debe realizar primero una operación y luego otra. Trata de definir el mayor número de funciones posibles. \n",
    "- Programa, definiendo funciones, el juego 'piedra, papel o tijera'. \n",
    "- Haz un programa que, a partir de las cadenas \"|\" y \"_\", muestre por pantalla un tablero de ajedrez 8x8. \n",
    "- Haz un programa utilizando 'while' que genere una baraja de cartas de 4 palos distintos. La baraja ha de tener 40 cartas. "
   ]
  },
  {
   "cell_type": "markdown",
   "metadata": {},
   "source": [
    "# REPASO EXPRESS"
   ]
  },
  {
   "cell_type": "code",
   "execution_count": null,
   "metadata": {},
   "outputs": [],
   "source": []
  }
 ],
 "metadata": {
  "language_info": {
   "name": "python",
   "codemirror_mode": {
    "name": "ipython",
    "version": 3
   },
   "version": "3.7.6-final"
  },
  "orig_nbformat": 2,
  "file_extension": ".py",
  "mimetype": "text/x-python",
  "name": "python",
  "npconvert_exporter": "python",
  "pygments_lexer": "ipython3",
  "version": 3,
  "kernelspec": {
   "name": "python3",
   "display_name": "Python 3"
  }
 },
 "nbformat": 4,
 "nbformat_minor": 2
}